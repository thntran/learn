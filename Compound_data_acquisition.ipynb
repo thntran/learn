{
  "nbformat": 4,
  "nbformat_minor": 0,
  "metadata": {
    "colab": {
      "name": "Compound-data-acquisition.ipynb",
      "provenance": [],
      "authorship_tag": "ABX9TyMKB5VSDhIWDzOQK+zQwPJO",
      "include_colab_link": true
    },
    "kernelspec": {
      "name": "python3",
      "display_name": "Python 3"
    }
  },
  "cells": [
    {
      "cell_type": "markdown",
      "metadata": {
        "id": "view-in-github",
        "colab_type": "text"
      },
      "source": [
        "<a href=\"https://colab.research.google.com/github/thntran/learn/blob/master/Compound_data_acquisition.ipynb\" target=\"_parent\"><img src=\"https://colab.research.google.com/assets/colab-badge.svg\" alt=\"Open In Colab\"/></a>"
      ]
    },
    {
      "cell_type": "markdown",
      "metadata": {
        "id": "6_f2SPde1Dji",
        "colab_type": "text"
      },
      "source": [
        "**Installing libraries**"
      ]
    },
    {
      "cell_type": "markdown",
      "metadata": {
        "id": "q1XC9ZKQVujJ",
        "colab_type": "text"
      },
      "source": [
        "Install the ChEMBL web service package so that we can retrieve bioactivity data from the ChEMBL Database."
      ]
    },
    {
      "cell_type": "code",
      "metadata": {
        "id": "6A92BuKjzizf",
        "colab_type": "code",
        "colab": {
          "base_uri": "https://localhost:8080/",
          "height": 368
        },
        "outputId": "8514e487-fb8e-4b65-bc61-897947f789fb"
      },
      "source": [
        "! pip install chembl_webresource_client"
      ],
      "execution_count": 1,
      "outputs": [
        {
          "output_type": "stream",
          "text": [
            "Collecting chembl_webresource_client\n",
            "\u001b[?25l  Downloading https://files.pythonhosted.org/packages/2e/48/0db29040c92726fcc6f99a5bc89e0ea8cf5a9d84753ebaaf53108792da2a/chembl-webresource-client-0.10.2.tar.gz (51kB)\n",
            "\r\u001b[K     |██████▍                         | 10kB 9.3MB/s eta 0:00:01\r\u001b[K     |████████████▊                   | 20kB 1.7MB/s eta 0:00:01\r\u001b[K     |███████████████████             | 30kB 2.2MB/s eta 0:00:01\r\u001b[K     |█████████████████████████▍      | 40kB 2.5MB/s eta 0:00:01\r\u001b[K     |███████████████████████████████▊| 51kB 2.0MB/s eta 0:00:01\r\u001b[K     |████████████████████████████████| 61kB 1.9MB/s \n",
            "\u001b[?25hRequirement already satisfied: urllib3 in /usr/local/lib/python3.6/dist-packages (from chembl_webresource_client) (1.24.3)\n",
            "Requirement already satisfied: requests>=2.18.4 in /usr/local/lib/python3.6/dist-packages (from chembl_webresource_client) (2.23.0)\n",
            "Collecting requests-cache>=0.4.7\n",
            "  Downloading https://files.pythonhosted.org/packages/7f/55/9b1c40eb83c16d8fc79c5f6c2ffade04208b080670fbfc35e0a5effb5a92/requests_cache-0.5.2-py2.py3-none-any.whl\n",
            "Requirement already satisfied: easydict in /usr/local/lib/python3.6/dist-packages (from chembl_webresource_client) (1.9)\n",
            "Requirement already satisfied: certifi>=2017.4.17 in /usr/local/lib/python3.6/dist-packages (from requests>=2.18.4->chembl_webresource_client) (2020.6.20)\n",
            "Requirement already satisfied: idna<3,>=2.5 in /usr/local/lib/python3.6/dist-packages (from requests>=2.18.4->chembl_webresource_client) (2.10)\n",
            "Requirement already satisfied: chardet<4,>=3.0.2 in /usr/local/lib/python3.6/dist-packages (from requests>=2.18.4->chembl_webresource_client) (3.0.4)\n",
            "Building wheels for collected packages: chembl-webresource-client\n",
            "  Building wheel for chembl-webresource-client (setup.py) ... \u001b[?25l\u001b[?25hdone\n",
            "  Created wheel for chembl-webresource-client: filename=chembl_webresource_client-0.10.2-cp36-none-any.whl size=55661 sha256=962b7f1e0979ff3bce655744f422409060211c74a727a1bac4cab6222bc27603\n",
            "  Stored in directory: /root/.cache/pip/wheels/e6/96/19/3f042bfda7c669bfe24c8278477f57b0fbbf3e488b4c09e3a8\n",
            "Successfully built chembl-webresource-client\n",
            "Installing collected packages: requests-cache, chembl-webresource-client\n",
            "Successfully installed chembl-webresource-client-0.10.2 requests-cache-0.5.2\n"
          ],
          "name": "stdout"
        }
      ]
    },
    {
      "cell_type": "markdown",
      "metadata": {
        "id": "a1Wy0zrdV4xn",
        "colab_type": "text"
      },
      "source": [
        "Install anaconda and RDkit in order to work on molecular data"
      ]
    },
    {
      "cell_type": "code",
      "metadata": {
        "id": "YFmiZtKF02M3",
        "colab_type": "code",
        "colab": {
          "base_uri": "https://localhost:8080/",
          "height": 1000
        },
        "outputId": "fd0dbe08-1333-47e9-d166-6a812dd575bd"
      },
      "source": [
        "! wget https://repo.anaconda.com/miniconda/Miniconda3-py37_4.8.2-Linux-x86_64.sh\n",
        "! chmod +x Miniconda3-py37_4.8.2-Linux-x86_64.sh\n",
        "! bash ./Miniconda3-py37_4.8.2-Linux-x86_64.sh -b -f -p /usr/local\n",
        "! conda install -c rdkit rdkit -y\n",
        "import sys\n",
        "sys.path.append('/usr/local/lib/python3.7/site-packages/') "
      ],
      "execution_count": 2,
      "outputs": [
        {
          "output_type": "stream",
          "text": [
            "--2020-08-14 06:33:15--  https://repo.anaconda.com/miniconda/Miniconda3-py37_4.8.2-Linux-x86_64.sh\n",
            "Resolving repo.anaconda.com (repo.anaconda.com)... 104.16.130.3, 104.16.131.3, 2606:4700::6810:8203, ...\n",
            "Connecting to repo.anaconda.com (repo.anaconda.com)|104.16.130.3|:443... connected.\n",
            "HTTP request sent, awaiting response... 200 OK\n",
            "Length: 85055499 (81M) [application/x-sh]\n",
            "Saving to: ‘Miniconda3-py37_4.8.2-Linux-x86_64.sh’\n",
            "\n",
            "Miniconda3-py37_4.8 100%[===================>]  81.12M   193MB/s    in 0.4s    \n",
            "\n",
            "2020-08-14 06:33:15 (193 MB/s) - ‘Miniconda3-py37_4.8.2-Linux-x86_64.sh’ saved [85055499/85055499]\n",
            "\n",
            "PREFIX=/usr/local\n",
            "Unpacking payload ...\n",
            "Collecting package metadata (current_repodata.json): - \b\b\\ \b\bdone\n",
            "Solving environment: / \b\b- \b\bdone\n",
            "\n",
            "## Package Plan ##\n",
            "\n",
            "  environment location: /usr/local\n",
            "\n",
            "  added / updated specs:\n",
            "    - _libgcc_mutex==0.1=main\n",
            "    - asn1crypto==1.3.0=py37_0\n",
            "    - ca-certificates==2020.1.1=0\n",
            "    - certifi==2019.11.28=py37_0\n",
            "    - cffi==1.14.0=py37h2e261b9_0\n",
            "    - chardet==3.0.4=py37_1003\n",
            "    - conda-package-handling==1.6.0=py37h7b6447c_0\n",
            "    - conda==4.8.2=py37_0\n",
            "    - cryptography==2.8=py37h1ba5d50_0\n",
            "    - idna==2.8=py37_0\n",
            "    - ld_impl_linux-64==2.33.1=h53a641e_7\n",
            "    - libedit==3.1.20181209=hc058e9b_0\n",
            "    - libffi==3.2.1=hd88cf55_4\n",
            "    - libgcc-ng==9.1.0=hdf63c60_0\n",
            "    - libstdcxx-ng==9.1.0=hdf63c60_0\n",
            "    - ncurses==6.2=he6710b0_0\n",
            "    - openssl==1.1.1d=h7b6447c_4\n",
            "    - pip==20.0.2=py37_1\n",
            "    - pycosat==0.6.3=py37h7b6447c_0\n",
            "    - pycparser==2.19=py37_0\n",
            "    - pyopenssl==19.1.0=py37_0\n",
            "    - pysocks==1.7.1=py37_0\n",
            "    - python==3.7.6=h0371630_2\n",
            "    - readline==7.0=h7b6447c_5\n",
            "    - requests==2.22.0=py37_1\n",
            "    - ruamel_yaml==0.15.87=py37h7b6447c_0\n",
            "    - setuptools==45.2.0=py37_0\n",
            "    - six==1.14.0=py37_0\n",
            "    - sqlite==3.31.1=h7b6447c_0\n",
            "    - tk==8.6.8=hbc83047_0\n",
            "    - tqdm==4.42.1=py_0\n",
            "    - urllib3==1.25.8=py37_0\n",
            "    - wheel==0.34.2=py37_0\n",
            "    - xz==5.2.4=h14c3975_4\n",
            "    - yaml==0.1.7=had09818_2\n",
            "    - zlib==1.2.11=h7b6447c_3\n",
            "\n",
            "\n",
            "The following NEW packages will be INSTALLED:\n",
            "\n",
            "  _libgcc_mutex      pkgs/main/linux-64::_libgcc_mutex-0.1-main\n",
            "  asn1crypto         pkgs/main/linux-64::asn1crypto-1.3.0-py37_0\n",
            "  ca-certificates    pkgs/main/linux-64::ca-certificates-2020.1.1-0\n",
            "  certifi            pkgs/main/linux-64::certifi-2019.11.28-py37_0\n",
            "  cffi               pkgs/main/linux-64::cffi-1.14.0-py37h2e261b9_0\n",
            "  chardet            pkgs/main/linux-64::chardet-3.0.4-py37_1003\n",
            "  conda              pkgs/main/linux-64::conda-4.8.2-py37_0\n",
            "  conda-package-han~ pkgs/main/linux-64::conda-package-handling-1.6.0-py37h7b6447c_0\n",
            "  cryptography       pkgs/main/linux-64::cryptography-2.8-py37h1ba5d50_0\n",
            "  idna               pkgs/main/linux-64::idna-2.8-py37_0\n",
            "  ld_impl_linux-64   pkgs/main/linux-64::ld_impl_linux-64-2.33.1-h53a641e_7\n",
            "  libedit            pkgs/main/linux-64::libedit-3.1.20181209-hc058e9b_0\n",
            "  libffi             pkgs/main/linux-64::libffi-3.2.1-hd88cf55_4\n",
            "  libgcc-ng          pkgs/main/linux-64::libgcc-ng-9.1.0-hdf63c60_0\n",
            "  libstdcxx-ng       pkgs/main/linux-64::libstdcxx-ng-9.1.0-hdf63c60_0\n",
            "  ncurses            pkgs/main/linux-64::ncurses-6.2-he6710b0_0\n",
            "  openssl            pkgs/main/linux-64::openssl-1.1.1d-h7b6447c_4\n",
            "  pip                pkgs/main/linux-64::pip-20.0.2-py37_1\n",
            "  pycosat            pkgs/main/linux-64::pycosat-0.6.3-py37h7b6447c_0\n",
            "  pycparser          pkgs/main/linux-64::pycparser-2.19-py37_0\n",
            "  pyopenssl          pkgs/main/linux-64::pyopenssl-19.1.0-py37_0\n",
            "  pysocks            pkgs/main/linux-64::pysocks-1.7.1-py37_0\n",
            "  python             pkgs/main/linux-64::python-3.7.6-h0371630_2\n",
            "  readline           pkgs/main/linux-64::readline-7.0-h7b6447c_5\n",
            "  requests           pkgs/main/linux-64::requests-2.22.0-py37_1\n",
            "  ruamel_yaml        pkgs/main/linux-64::ruamel_yaml-0.15.87-py37h7b6447c_0\n",
            "  setuptools         pkgs/main/linux-64::setuptools-45.2.0-py37_0\n",
            "  six                pkgs/main/linux-64::six-1.14.0-py37_0\n",
            "  sqlite             pkgs/main/linux-64::sqlite-3.31.1-h7b6447c_0\n",
            "  tk                 pkgs/main/linux-64::tk-8.6.8-hbc83047_0\n",
            "  tqdm               pkgs/main/noarch::tqdm-4.42.1-py_0\n",
            "  urllib3            pkgs/main/linux-64::urllib3-1.25.8-py37_0\n",
            "  wheel              pkgs/main/linux-64::wheel-0.34.2-py37_0\n",
            "  xz                 pkgs/main/linux-64::xz-5.2.4-h14c3975_4\n",
            "  yaml               pkgs/main/linux-64::yaml-0.1.7-had09818_2\n",
            "  zlib               pkgs/main/linux-64::zlib-1.2.11-h7b6447c_3\n",
            "\n",
            "\n",
            "Preparing transaction: | \b\b/ \b\b- \b\b\\ \b\bdone\n",
            "Executing transaction: / \b\b- \b\b\\ \b\b| \b\b/ \b\b- \b\b\\ \b\b| \b\b/ \b\b- \b\b\\ \b\b| \b\b/ \b\b- \b\b\\ \b\bdone\n",
            "installation finished.\n",
            "WARNING:\n",
            "    You currently have a PYTHONPATH environment variable set. This may cause\n",
            "    unexpected behavior when running the Python interpreter in Miniconda3.\n",
            "    For best results, please verify that your PYTHONPATH only points to\n",
            "    directories of packages that are compatible with the Python interpreter\n",
            "    in Miniconda3: /usr/local\n",
            "Collecting package metadata (current_repodata.json): - \b\b\\ \b\b| \b\b/ \b\b- \b\b\\ \b\b| \b\b/ \b\b- \b\b\\ \b\b| \b\b/ \b\b- \b\b\\ \b\b| \b\b/ \b\b- \b\bdone\n",
            "Solving environment: | \b\b/ \b\b- \b\b\\ \b\b| \b\b/ \b\b- \b\b\\ \b\b| \b\bfailed with initial frozen solve. Retrying with flexible solve.\n",
            "Solving environment: - \b\b\\ \b\b| \b\b/ \b\b- \b\b\\ \b\b| \b\b/ \b\b- \b\b\\ \b\b| \b\bfailed with repodata from current_repodata.json, will retry with next repodata source.\n",
            "Collecting package metadata (repodata.json): - \b\b\\ \b\b| \b\b/ \b\b- \b\b\\ \b\b| \b\b/ \b\b- \b\b\\ \b\b| \b\b/ \b\b- \b\b\\ \b\b| \b\b/ \b\b- \b\b\\ \b\b| \b\b/ \b\b- \b\b\\ \b\b| \b\b/ \b\b- \b\b\\ \b\b| \b\b/ \b\b- \b\b\\ \b\b| \b\b/ \b\b- \b\b\\ \b\b| \b\b/ \b\b- \b\b\\ \b\bdone\n",
            "Solving environment: / \b\b- \b\b\\ \b\b| \b\b/ \b\b- \b\b\\ \b\b| \b\b/ \b\b- \b\b\\ \b\b| \b\b/ \b\b- \b\b\\ \b\b| \b\b/ \b\b- \b\b\\ \b\b| \b\b/ \b\b- \b\b\\ \b\b| \b\b/ \b\b- \b\b\\ \b\b| \b\b/ \b\b- \b\b\\ \b\b| \b\b/ \b\b- \b\b\\ \b\b| \b\b/ \b\b- \b\b\\ \b\b| \b\bdone\n",
            "\n",
            "## Package Plan ##\n",
            "\n",
            "  environment location: /usr/local\n",
            "\n",
            "  added / updated specs:\n",
            "    - rdkit\n",
            "\n",
            "\n",
            "The following packages will be downloaded:\n",
            "\n",
            "    package                    |            build\n",
            "    ---------------------------|-----------------\n",
            "    blas-1.0                   |              mkl           6 KB\n",
            "    bzip2-1.0.8                |       h7b6447c_0          78 KB\n",
            "    ca-certificates-2020.6.24  |                0         125 KB\n",
            "    cairo-1.14.12              |       h8948797_3         906 KB\n",
            "    certifi-2020.6.20          |           py37_0         156 KB\n",
            "    conda-4.8.4                |           py37_0         2.9 MB\n",
            "    fontconfig-2.13.0          |       h9420a91_0         227 KB\n",
            "    freetype-2.10.2            |       h5ab3b9f_0         608 KB\n",
            "    glib-2.63.1                |       h5a9c865_0         2.9 MB\n",
            "    icu-58.2                   |       he6710b0_3        10.5 MB\n",
            "    intel-openmp-2020.1        |              217         780 KB\n",
            "    jpeg-9b                    |       h024ee3a_2         214 KB\n",
            "    libboost-1.67.0            |       h46d08c1_4        13.0 MB\n",
            "    libpng-1.6.37              |       hbc83047_0         278 KB\n",
            "    libtiff-4.1.0              |       h2733197_0         447 KB\n",
            "    libuuid-1.0.3              |       h1bed415_2          15 KB\n",
            "    libxcb-1.14                |       h7b6447c_0         505 KB\n",
            "    libxml2-2.9.9              |       hea5a465_1         1.6 MB\n",
            "    mkl-2020.1                 |              217       129.0 MB\n",
            "    mkl-service-2.3.0          |   py37he904b0f_0         218 KB\n",
            "    mkl_fft-1.1.0              |   py37h23d657b_0         143 KB\n",
            "    mkl_random-1.1.1           |   py37h0573a6f_0         322 KB\n",
            "    numpy-1.19.1               |   py37hbc911f0_0          21 KB\n",
            "    numpy-base-1.19.1          |   py37hfa32c7d_0         4.1 MB\n",
            "    olefile-0.46               |           py37_0          50 KB\n",
            "    openssl-1.1.1g             |       h7b6447c_0         2.5 MB\n",
            "    pandas-1.1.0               |   py37he6710b0_0         8.1 MB\n",
            "    pcre-8.44                  |       he6710b0_0         212 KB\n",
            "    pillow-7.1.2               |   py37hb39fc2d_0         603 KB\n",
            "    pixman-0.40.0              |       h7b6447c_0         370 KB\n",
            "    py-boost-1.67.0            |   py37h04863e7_4         278 KB\n",
            "    python-dateutil-2.8.1      |             py_0         215 KB\n",
            "    pytz-2020.1                |             py_0         184 KB\n",
            "    rdkit-2020.03.3.0          |   py37hc20afe1_1        24.8 MB  rdkit\n",
            "    zstd-1.3.7                 |       h0b5b093_0         401 KB\n",
            "    ------------------------------------------------------------\n",
            "                                           Total:       206.5 MB\n",
            "\n",
            "The following NEW packages will be INSTALLED:\n",
            "\n",
            "  blas               pkgs/main/linux-64::blas-1.0-mkl\n",
            "  bzip2              pkgs/main/linux-64::bzip2-1.0.8-h7b6447c_0\n",
            "  cairo              pkgs/main/linux-64::cairo-1.14.12-h8948797_3\n",
            "  fontconfig         pkgs/main/linux-64::fontconfig-2.13.0-h9420a91_0\n",
            "  freetype           pkgs/main/linux-64::freetype-2.10.2-h5ab3b9f_0\n",
            "  glib               pkgs/main/linux-64::glib-2.63.1-h5a9c865_0\n",
            "  icu                pkgs/main/linux-64::icu-58.2-he6710b0_3\n",
            "  intel-openmp       pkgs/main/linux-64::intel-openmp-2020.1-217\n",
            "  jpeg               pkgs/main/linux-64::jpeg-9b-h024ee3a_2\n",
            "  libboost           pkgs/main/linux-64::libboost-1.67.0-h46d08c1_4\n",
            "  libpng             pkgs/main/linux-64::libpng-1.6.37-hbc83047_0\n",
            "  libtiff            pkgs/main/linux-64::libtiff-4.1.0-h2733197_0\n",
            "  libuuid            pkgs/main/linux-64::libuuid-1.0.3-h1bed415_2\n",
            "  libxcb             pkgs/main/linux-64::libxcb-1.14-h7b6447c_0\n",
            "  libxml2            pkgs/main/linux-64::libxml2-2.9.9-hea5a465_1\n",
            "  mkl                pkgs/main/linux-64::mkl-2020.1-217\n",
            "  mkl-service        pkgs/main/linux-64::mkl-service-2.3.0-py37he904b0f_0\n",
            "  mkl_fft            pkgs/main/linux-64::mkl_fft-1.1.0-py37h23d657b_0\n",
            "  mkl_random         pkgs/main/linux-64::mkl_random-1.1.1-py37h0573a6f_0\n",
            "  numpy              pkgs/main/linux-64::numpy-1.19.1-py37hbc911f0_0\n",
            "  numpy-base         pkgs/main/linux-64::numpy-base-1.19.1-py37hfa32c7d_0\n",
            "  olefile            pkgs/main/linux-64::olefile-0.46-py37_0\n",
            "  pandas             pkgs/main/linux-64::pandas-1.1.0-py37he6710b0_0\n",
            "  pcre               pkgs/main/linux-64::pcre-8.44-he6710b0_0\n",
            "  pillow             pkgs/main/linux-64::pillow-7.1.2-py37hb39fc2d_0\n",
            "  pixman             pkgs/main/linux-64::pixman-0.40.0-h7b6447c_0\n",
            "  py-boost           pkgs/main/linux-64::py-boost-1.67.0-py37h04863e7_4\n",
            "  python-dateutil    pkgs/main/noarch::python-dateutil-2.8.1-py_0\n",
            "  pytz               pkgs/main/noarch::pytz-2020.1-py_0\n",
            "  rdkit              rdkit/linux-64::rdkit-2020.03.3.0-py37hc20afe1_1\n",
            "  zstd               pkgs/main/linux-64::zstd-1.3.7-h0b5b093_0\n",
            "\n",
            "The following packages will be UPDATED:\n",
            "\n",
            "  ca-certificates                                2020.1.1-0 --> 2020.6.24-0\n",
            "  certifi                                 2019.11.28-py37_0 --> 2020.6.20-py37_0\n",
            "  conda                                        4.8.2-py37_0 --> 4.8.4-py37_0\n",
            "  openssl                                 1.1.1d-h7b6447c_4 --> 1.1.1g-h7b6447c_0\n",
            "\n",
            "\n",
            "\n",
            "Downloading and Extracting Packages\n",
            "zstd-1.3.7           | 401 KB    | : 100% 1.0/1 [00:00<00:00,  5.42it/s]               \n",
            "ca-certificates-2020 | 125 KB    | : 100% 1.0/1 [00:00<00:00, 16.33it/s]\n",
            "libxcb-1.14          | 505 KB    | : 100% 1.0/1 [00:00<00:00, 12.94it/s]\n",
            "certifi-2020.6.20    | 156 KB    | : 100% 1.0/1 [00:00<00:00, 18.61it/s]\n",
            "openssl-1.1.1g       | 2.5 MB    | : 100% 1.0/1 [00:00<00:00,  5.46it/s]\n",
            "pytz-2020.1          | 184 KB    | : 100% 1.0/1 [00:00<00:00, 11.54it/s]\n",
            "intel-openmp-2020.1  | 780 KB    | : 100% 1.0/1 [00:00<00:00, 14.20it/s]\n",
            "olefile-0.46         | 50 KB     | : 100% 1.0/1 [00:00<00:00, 18.16it/s]\n",
            "libpng-1.6.37        | 278 KB    | : 100% 1.0/1 [00:00<00:00, 17.17it/s]\n",
            "mkl_random-1.1.1     | 322 KB    | : 100% 1.0/1 [00:00<00:00, 17.20it/s]\n",
            "libuuid-1.0.3        | 15 KB     | : 100% 1.0/1 [00:00<00:00, 20.39it/s]\n",
            "mkl-2020.1           | 129.0 MB  | : 100% 1.0/1 [00:04<00:00,  4.95s/it]               \n",
            "numpy-1.19.1         | 21 KB     | : 100% 1.0/1 [00:00<00:00, 17.81it/s]\n",
            "py-boost-1.67.0      | 278 KB    | : 100% 1.0/1 [00:00<00:00, 12.60it/s]\n",
            "libtiff-4.1.0        | 447 KB    | : 100% 1.0/1 [00:00<00:00, 14.17it/s]\n",
            "mkl_fft-1.1.0        | 143 KB    | : 100% 1.0/1 [00:00<00:00, 16.23it/s]\n",
            "pandas-1.1.0         | 8.1 MB    | : 100% 1.0/1 [00:00<00:00,  1.86it/s]               \n",
            "rdkit-2020.03.3.0    | 24.8 MB   | : 100% 1.0/1 [00:04<00:00,  4.45s/it]\n",
            "blas-1.0             | 6 KB      | : 100% 1.0/1 [00:00<00:00, 19.31it/s]\n",
            "python-dateutil-2.8. | 215 KB    | : 100% 1.0/1 [00:00<00:00, 15.44it/s]\n",
            "libboost-1.67.0      | 13.0 MB   | : 100% 1.0/1 [00:01<00:00,  1.76s/it]               \n",
            "conda-4.8.4          | 2.9 MB    | : 100% 1.0/1 [00:00<00:00,  5.65it/s]\n",
            "pcre-8.44            | 212 KB    | : 100% 1.0/1 [00:00<00:00, 15.81it/s]\n",
            "pillow-7.1.2         | 603 KB    | : 100% 1.0/1 [00:00<00:00, 10.59it/s]\n",
            "bzip2-1.0.8          | 78 KB     | : 100% 1.0/1 [00:00<00:00, 18.01it/s]\n",
            "jpeg-9b              | 214 KB    | : 100% 1.0/1 [00:00<00:00, 15.20it/s]\n",
            "glib-2.63.1          | 2.9 MB    | : 100% 1.0/1 [00:00<00:00,  5.68it/s]\n",
            "freetype-2.10.2      | 608 KB    | : 100% 1.0/1 [00:00<00:00, 13.29it/s]\n",
            "libxml2-2.9.9        | 1.6 MB    | : 100% 1.0/1 [00:00<00:00,  8.08it/s]\n",
            "pixman-0.40.0        | 370 KB    | : 100% 1.0/1 [00:00<00:00, 13.20it/s]\n",
            "numpy-base-1.19.1    | 4.1 MB    | : 100% 1.0/1 [00:00<00:00,  3.07it/s]\n",
            "cairo-1.14.12        | 906 KB    | : 100% 1.0/1 [00:00<00:00, 10.35it/s]\n",
            "icu-58.2             | 10.5 MB   | : 100% 1.0/1 [00:00<00:00,  1.97it/s]              \n",
            "fontconfig-2.13.0    | 227 KB    | : 100% 1.0/1 [00:00<00:00, 13.53it/s]\n",
            "mkl-service-2.3.0    | 218 KB    | : 100% 1.0/1 [00:00<00:00, 14.37it/s]\n",
            "Preparing transaction: - \b\b\\ \b\b| \b\b/ \b\b- \b\b\\ \b\b| \b\b/ \b\bdone\n",
            "Verifying transaction: \\ \b\b| \b\b/ \b\b- \b\b\\ \b\b| \b\b/ \b\b- \b\b\\ \b\b| \b\b/ \b\b- \b\b\\ \b\b| \b\b/ \b\b- \b\b\\ \b\b| \b\b/ \b\b- \b\b\\ \b\b| \b\b/ \b\b- \b\bdone\n",
            "Executing transaction: | \b\b/ \b\b- \b\b\\ \b\b| \b\b/ \b\b- \b\b\\ \b\b| \b\b/ \b\b- \b\b\\ \b\b| \b\b/ \b\b- \b\b\\ \b\b| \b\b/ \b\b- \b\b\\ \b\b| \b\b/ \b\b- \b\b\\ \b\b| \b\b/ \b\b- \b\b\\ \b\b| \b\b/ \b\b- \b\b\\ \b\b| \b\b/ \b\b- \b\b\\ \b\b| \b\b/ \b\b- \b\b\\ \b\b| \b\b/ \b\b- \b\b\\ \b\b| \b\b/ \b\b- \b\b\\ \b\b| \b\b/ \b\b- \b\b\\ \b\b| \b\b/ \b\b- \b\b\\ \b\b| \b\b/ \b\b- \b\b\\ \b\b| \b\b/ \b\b- \b\b\\ \b\b| \b\b/ \b\b- \b\b\\ \b\b| \b\b/ \b\b- \b\b\\ \b\b| \b\b/ \b\b- \b\b\\ \b\b| \b\b/ \b\b- \b\b\\ \b\b| \b\b/ \b\b- \b\b\\ \b\b| \b\b/ \b\b- \b\b\\ \b\b| \b\b/ \b\b- \b\b\\ \b\b| \b\b/ \b\b- \b\b\\ \b\b| \b\b/ \b\b- \b\b\\ \b\b| \b\b/ \b\b- \b\b\\ \b\b| \b\b/ \b\b- \b\b\\ \b\b| \b\b/ \b\b- \b\b\\ \b\b| \b\b/ \b\b- \b\b\\ \b\b| \b\b/ \b\b- \b\b\\ \b\b| \b\b/ \b\b- \b\b\\ \b\b| \b\b/ \b\b- \b\b\\ \b\b| \b\b/ \b\b- \b\b\\ \b\b| \b\b/ \b\b- \b\b\\ \b\b| \b\b/ \b\b- \b\b\\ \b\b| \b\b/ \b\b- \b\b\\ \b\b| \b\b/ \b\b- \b\b\\ \b\b| \b\b/ \b\b- \b\b\\ \b\b| \b\b/ \b\b- \b\b\\ \b\b| \b\b/ \b\b- \b\b\\ \b\b| \b\b/ \b\b- \b\b\\ \b\b| \b\b/ \b\b- \b\b\\ \b\b| \b\b/ \b\b- \b\b\\ \b\b| \b\b/ \b\b- \b\b\\ \b\b| \b\b/ \b\b- \b\b\\ \b\b| \b\b/ \b\b- \b\b\\ \b\b| \b\b/ \b\b- \b\b\\ \b\b| \b\b/ \b\b- \b\b\\ \b\b| \b\b/ \b\b- \b\b\\ \b\b| \b\b/ \b\b- \b\b\\ \b\b| \b\b/ \b\b- \b\b\\ \b\b| \b\b/ \b\b- \b\b\\ \b\b| \b\b/ \b\b- \b\b\\ \b\b| \b\b/ \b\b- \b\b\\ \b\b| \b\b/ \b\b- \b\b\\ \b\b| \b\b/ \b\b- \b\b\\ \b\b| \b\b/ \b\b- \b\b\\ \b\b| \b\b/ \b\b- \b\b\\ \b\b| \b\b/ \b\b- \b\b\\ \b\b| \b\b/ \b\b- \b\b\\ \b\b| \b\b/ \b\b- \b\b\\ \b\b| \b\b/ \b\b- \b\b\\ \b\b| \b\b/ \b\b- \b\b\\ \b\b| \b\b/ \b\b- \b\b\\ \b\b| \b\b/ \b\b- \b\b\\ \b\b| \b\b/ \b\b- \b\b\\ \b\b| \b\b/ \b\b- \b\b\\ \b\b| \b\b/ \b\b- \b\b\\ \b\b| \b\b/ \b\b- \b\b\\ \b\b| \b\b/ \b\b- \b\b\\ \b\b| \b\b/ \b\b- \b\b\\ \b\b| \b\b/ \b\b- \b\b\\ \b\b| \b\b/ \b\b- \b\b\\ \b\b| \b\b/ \b\b- \b\b\\ \b\b| \b\b/ \b\b- \b\b\\ \b\b| \b\b/ \b\b- \b\b\\ \b\b| \b\b/ \b\b- \b\b\\ \b\b| \b\b/ \b\b- \b\b\\ \b\b| \b\b/ \b\b- \b\b\\ \b\b| \b\bdone\n"
          ],
          "name": "stdout"
        }
      ]
    },
    {
      "cell_type": "markdown",
      "metadata": {
        "id": "aiQN4M0CWzkX",
        "colab_type": "text"
      },
      "source": [
        "**Importing libraries**"
      ]
    },
    {
      "cell_type": "code",
      "metadata": {
        "id": "aGOy4Ddk1sTt",
        "colab_type": "code",
        "colab": {}
      },
      "source": [
        "from chembl_webresource_client.new_client import new_client\n",
        "import pandas as pd\n",
        "import math\n",
        "from rdkit.Chem import PandasTools"
      ],
      "execution_count": 3,
      "outputs": []
    },
    {
      "cell_type": "markdown",
      "metadata": {
        "id": "UivjkRWk2CBa",
        "colab_type": "text"
      },
      "source": [
        "**Search for target protein**"
      ]
    },
    {
      "cell_type": "code",
      "metadata": {
        "id": "Vz3ADnwO6rxx",
        "colab_type": "code",
        "colab": {}
      },
      "source": [
        "target = new_client.target\n",
        "molecule = new_client.molecule\n",
        "bioactivities = new_client.activity"
      ],
      "execution_count": 4,
      "outputs": []
    },
    {
      "cell_type": "code",
      "metadata": {
        "id": "pb8-MGqHyKcv",
        "colab_type": "code",
        "colab": {
          "base_uri": "https://localhost:8080/",
          "height": 206
        },
        "outputId": "e9b8794d-f1d8-4651-fd88-9963bd63cfde"
      },
      "source": [
        "uniprot_id = 'P00533'\n",
        "# Get target information from ChEMBL but restrict to specified values only\n",
        "target_query = target.get(target_components__accession=uniprot_id) \\\n",
        "                     .only('target_chembl_id', 'organism', 'pref_name', 'target_type')\n",
        "#print(type(target_query))\n",
        "targets = pd.DataFrame.from_records(target_query)\n",
        "targets"
      ],
      "execution_count": 5,
      "outputs": [
        {
          "output_type": "execute_result",
          "data": {
            "text/html": [
              "<div>\n",
              "<style scoped>\n",
              "    .dataframe tbody tr th:only-of-type {\n",
              "        vertical-align: middle;\n",
              "    }\n",
              "\n",
              "    .dataframe tbody tr th {\n",
              "        vertical-align: top;\n",
              "    }\n",
              "\n",
              "    .dataframe thead th {\n",
              "        text-align: right;\n",
              "    }\n",
              "</style>\n",
              "<table border=\"1\" class=\"dataframe\">\n",
              "  <thead>\n",
              "    <tr style=\"text-align: right;\">\n",
              "      <th></th>\n",
              "      <th>organism</th>\n",
              "      <th>pref_name</th>\n",
              "      <th>target_chembl_id</th>\n",
              "      <th>target_type</th>\n",
              "    </tr>\n",
              "  </thead>\n",
              "  <tbody>\n",
              "    <tr>\n",
              "      <th>0</th>\n",
              "      <td>Homo sapiens</td>\n",
              "      <td>Epidermal growth factor receptor erbB1</td>\n",
              "      <td>CHEMBL203</td>\n",
              "      <td>SINGLE PROTEIN</td>\n",
              "    </tr>\n",
              "    <tr>\n",
              "      <th>1</th>\n",
              "      <td>Homo sapiens</td>\n",
              "      <td>Epidermal growth factor receptor erbB1</td>\n",
              "      <td>CHEMBL203</td>\n",
              "      <td>SINGLE PROTEIN</td>\n",
              "    </tr>\n",
              "    <tr>\n",
              "      <th>2</th>\n",
              "      <td>Homo sapiens</td>\n",
              "      <td>Epidermal growth factor receptor and ErbB2 (HE...</td>\n",
              "      <td>CHEMBL2111431</td>\n",
              "      <td>PROTEIN FAMILY</td>\n",
              "    </tr>\n",
              "    <tr>\n",
              "      <th>3</th>\n",
              "      <td>Homo sapiens</td>\n",
              "      <td>Epidermal growth factor receptor</td>\n",
              "      <td>CHEMBL2363049</td>\n",
              "      <td>PROTEIN FAMILY</td>\n",
              "    </tr>\n",
              "    <tr>\n",
              "      <th>4</th>\n",
              "      <td>Homo sapiens</td>\n",
              "      <td>MER intracellular domain/EGFR extracellular do...</td>\n",
              "      <td>CHEMBL3137284</td>\n",
              "      <td>CHIMERIC PROTEIN</td>\n",
              "    </tr>\n",
              "  </tbody>\n",
              "</table>\n",
              "</div>"
            ],
            "text/plain": [
              "       organism  ...       target_type\n",
              "0  Homo sapiens  ...    SINGLE PROTEIN\n",
              "1  Homo sapiens  ...    SINGLE PROTEIN\n",
              "2  Homo sapiens  ...    PROTEIN FAMILY\n",
              "3  Homo sapiens  ...    PROTEIN FAMILY\n",
              "4  Homo sapiens  ...  CHIMERIC PROTEIN\n",
              "\n",
              "[5 rows x 4 columns]"
            ]
          },
          "metadata": {
            "tags": []
          },
          "execution_count": 5
        }
      ]
    },
    {
      "cell_type": "markdown",
      "metadata": {
        "id": "GKoK5Bv-yX7k",
        "colab_type": "text"
      },
      "source": [
        "\n",
        "Select CHEMBL203 as the target of interest.\n",
        "\n",
        "CHEMBL203: It is a single protein and represents the human Epidermal growth factor receptor (EGFR, also named erbB1)\n"
      ]
    },
    {
      "cell_type": "code",
      "metadata": {
        "id": "fsXJjbRcyZV7",
        "colab_type": "code",
        "colab": {}
      },
      "source": [
        "selected_target = targets.target_chembl_id[0]"
      ],
      "execution_count": 6,
      "outputs": []
    },
    {
      "cell_type": "markdown",
      "metadata": {
        "id": "mYIbQzrY6fyf",
        "colab_type": "text"
      },
      "source": [
        "We want to download all molecules that have been tested against our target of interest,, only consider:\n",
        "- human proteins\n",
        "- bioactivity type IC50\n",
        "- exact measurements (relation '=')\n",
        "- binding data (assay type 'B')"
      ]
    },
    {
      "cell_type": "code",
      "metadata": {
        "id": "mkcvEdYO1xWg",
        "colab_type": "code",
        "colab": {
          "base_uri": "https://localhost:8080/",
          "height": 730
        },
        "outputId": "bf03f45e-24fb-45bf-c8a2-487842e94abc"
      },
      "source": [
        "bioact = bioactivities.filter(target_chembl_id = selected_target).filter(type = 'IC50').filter(relation = '=').filter(assay_type = 'B') \\\n",
        "                      .only('activity_id','assay_chembl_id','canonical_smiles', 'assay_description', 'assay_type', \\\n",
        "                            'molecule_chembl_id', 'type', 'units', 'relation', 'value', \\\n",
        "                            'target_chembl_id', 'target_organism')\n",
        "len(bioact), len(bioact[0]), type(bioact), type(bioact[0])\n",
        "bioact_df = pd.DataFrame.from_records(bioact)\n",
        "bioact_df.head(10)"
      ],
      "execution_count": 7,
      "outputs": [
        {
          "output_type": "execute_result",
          "data": {
            "text/html": [
              "<div>\n",
              "<style scoped>\n",
              "    .dataframe tbody tr th:only-of-type {\n",
              "        vertical-align: middle;\n",
              "    }\n",
              "\n",
              "    .dataframe tbody tr th {\n",
              "        vertical-align: top;\n",
              "    }\n",
              "\n",
              "    .dataframe thead th {\n",
              "        text-align: right;\n",
              "    }\n",
              "</style>\n",
              "<table border=\"1\" class=\"dataframe\">\n",
              "  <thead>\n",
              "    <tr style=\"text-align: right;\">\n",
              "      <th></th>\n",
              "      <th>activity_id</th>\n",
              "      <th>assay_chembl_id</th>\n",
              "      <th>assay_description</th>\n",
              "      <th>assay_type</th>\n",
              "      <th>canonical_smiles</th>\n",
              "      <th>molecule_chembl_id</th>\n",
              "      <th>relation</th>\n",
              "      <th>target_chembl_id</th>\n",
              "      <th>target_organism</th>\n",
              "      <th>type</th>\n",
              "      <th>units</th>\n",
              "      <th>value</th>\n",
              "    </tr>\n",
              "  </thead>\n",
              "  <tbody>\n",
              "    <tr>\n",
              "      <th>0</th>\n",
              "      <td>32260</td>\n",
              "      <td>CHEMBL674637</td>\n",
              "      <td>Inhibitory activity towards tyrosine phosphory...</td>\n",
              "      <td>B</td>\n",
              "      <td>Cc1cc(C)c(/C=C2\\C(=O)Nc3ncnc(Nc4ccc(F)c(Cl)c4)...</td>\n",
              "      <td>CHEMBL68920</td>\n",
              "      <td>=</td>\n",
              "      <td>CHEMBL203</td>\n",
              "      <td>Homo sapiens</td>\n",
              "      <td>IC50</td>\n",
              "      <td>uM</td>\n",
              "      <td>0.041</td>\n",
              "    </tr>\n",
              "    <tr>\n",
              "      <th>1</th>\n",
              "      <td>32260</td>\n",
              "      <td>CHEMBL674637</td>\n",
              "      <td>Inhibitory activity towards tyrosine phosphory...</td>\n",
              "      <td>B</td>\n",
              "      <td>Cc1cc(C)c(/C=C2\\C(=O)Nc3ncnc(Nc4ccc(F)c(Cl)c4)...</td>\n",
              "      <td>CHEMBL68920</td>\n",
              "      <td>=</td>\n",
              "      <td>CHEMBL203</td>\n",
              "      <td>Homo sapiens</td>\n",
              "      <td>IC50</td>\n",
              "      <td>uM</td>\n",
              "      <td>0.041</td>\n",
              "    </tr>\n",
              "    <tr>\n",
              "      <th>2</th>\n",
              "      <td>32267</td>\n",
              "      <td>CHEMBL674637</td>\n",
              "      <td>Inhibitory activity towards tyrosine phosphory...</td>\n",
              "      <td>B</td>\n",
              "      <td>Cc1cc(C(=O)N2CCOCC2)[nH]c1/C=C1\\C(=O)Nc2ncnc(N...</td>\n",
              "      <td>CHEMBL69960</td>\n",
              "      <td>=</td>\n",
              "      <td>CHEMBL203</td>\n",
              "      <td>Homo sapiens</td>\n",
              "      <td>IC50</td>\n",
              "      <td>uM</td>\n",
              "      <td>0.17</td>\n",
              "    </tr>\n",
              "    <tr>\n",
              "      <th>3</th>\n",
              "      <td>32680</td>\n",
              "      <td>CHEMBL677833</td>\n",
              "      <td>In vitro inhibition of Epidermal growth factor...</td>\n",
              "      <td>B</td>\n",
              "      <td>CN(c1ccccc1)c1ncnc2ccc(N/N=N/Cc3ccccn3)cc12</td>\n",
              "      <td>CHEMBL137635</td>\n",
              "      <td>=</td>\n",
              "      <td>CHEMBL203</td>\n",
              "      <td>Homo sapiens</td>\n",
              "      <td>IC50</td>\n",
              "      <td>uM</td>\n",
              "      <td>9.3</td>\n",
              "    </tr>\n",
              "    <tr>\n",
              "      <th>4</th>\n",
              "      <td>32770</td>\n",
              "      <td>CHEMBL674643</td>\n",
              "      <td>Inhibitory concentration of EGF dependent auto...</td>\n",
              "      <td>B</td>\n",
              "      <td>CC(=C(C#N)C#N)c1ccc(NC(=O)CCC(=O)O)cc1</td>\n",
              "      <td>CHEMBL306988</td>\n",
              "      <td>=</td>\n",
              "      <td>CHEMBL203</td>\n",
              "      <td>Homo sapiens</td>\n",
              "      <td>IC50</td>\n",
              "      <td>uM</td>\n",
              "      <td>500.0</td>\n",
              "    </tr>\n",
              "    <tr>\n",
              "      <th>5</th>\n",
              "      <td>32772</td>\n",
              "      <td>CHEMBL674643</td>\n",
              "      <td>Inhibitory concentration of EGF dependent auto...</td>\n",
              "      <td>B</td>\n",
              "      <td>O=C(O)/C=C/c1ccc(O)cc1</td>\n",
              "      <td>CHEMBL66879</td>\n",
              "      <td>=</td>\n",
              "      <td>CHEMBL203</td>\n",
              "      <td>Homo sapiens</td>\n",
              "      <td>IC50</td>\n",
              "      <td>uM</td>\n",
              "      <td>3000.0</td>\n",
              "    </tr>\n",
              "    <tr>\n",
              "      <th>6</th>\n",
              "      <td>32780</td>\n",
              "      <td>CHEMBL674643</td>\n",
              "      <td>Inhibitory concentration of EGF dependent auto...</td>\n",
              "      <td>B</td>\n",
              "      <td>N#CC(C#N)=Cc1cc(O)ccc1[N+](=O)[O-]</td>\n",
              "      <td>CHEMBL77085</td>\n",
              "      <td>=</td>\n",
              "      <td>CHEMBL203</td>\n",
              "      <td>Homo sapiens</td>\n",
              "      <td>IC50</td>\n",
              "      <td>uM</td>\n",
              "      <td>96.0</td>\n",
              "    </tr>\n",
              "    <tr>\n",
              "      <th>7</th>\n",
              "      <td>33406</td>\n",
              "      <td>CHEMBL674637</td>\n",
              "      <td>Inhibitory activity towards tyrosine phosphory...</td>\n",
              "      <td>B</td>\n",
              "      <td>Cc1cc(C(=O)NCCN2CCOCC2)[nH]c1/C=C1\\C(=O)N(C)c2...</td>\n",
              "      <td>CHEMBL443268</td>\n",
              "      <td>=</td>\n",
              "      <td>CHEMBL203</td>\n",
              "      <td>Homo sapiens</td>\n",
              "      <td>IC50</td>\n",
              "      <td>uM</td>\n",
              "      <td>5.31</td>\n",
              "    </tr>\n",
              "    <tr>\n",
              "      <th>8</th>\n",
              "      <td>34039</td>\n",
              "      <td>CHEMBL674643</td>\n",
              "      <td>Inhibitory concentration of EGF dependent auto...</td>\n",
              "      <td>B</td>\n",
              "      <td>COc1cc(/C=C(\\C#N)C(=O)O)cc(OC)c1O</td>\n",
              "      <td>CHEMBL76979</td>\n",
              "      <td>=</td>\n",
              "      <td>CHEMBL203</td>\n",
              "      <td>Homo sapiens</td>\n",
              "      <td>IC50</td>\n",
              "      <td>uM</td>\n",
              "      <td>264.0</td>\n",
              "    </tr>\n",
              "    <tr>\n",
              "      <th>9</th>\n",
              "      <td>34041</td>\n",
              "      <td>CHEMBL674643</td>\n",
              "      <td>Inhibitory concentration of EGF dependent auto...</td>\n",
              "      <td>B</td>\n",
              "      <td>N#CC(C#N)=C(N)/C(C#N)=C/c1ccc(O)cc1</td>\n",
              "      <td>CHEMBL76589</td>\n",
              "      <td>=</td>\n",
              "      <td>CHEMBL203</td>\n",
              "      <td>Homo sapiens</td>\n",
              "      <td>IC50</td>\n",
              "      <td>uM</td>\n",
              "      <td>0.125</td>\n",
              "    </tr>\n",
              "  </tbody>\n",
              "</table>\n",
              "</div>"
            ],
            "text/plain": [
              "   activity_id assay_chembl_id  ... units   value\n",
              "0        32260    CHEMBL674637  ...    uM   0.041\n",
              "1        32260    CHEMBL674637  ...    uM   0.041\n",
              "2        32267    CHEMBL674637  ...    uM    0.17\n",
              "3        32680    CHEMBL677833  ...    uM     9.3\n",
              "4        32770    CHEMBL674643  ...    uM   500.0\n",
              "5        32772    CHEMBL674643  ...    uM  3000.0\n",
              "6        32780    CHEMBL674643  ...    uM    96.0\n",
              "7        33406    CHEMBL674637  ...    uM    5.31\n",
              "8        34039    CHEMBL674643  ...    uM   264.0\n",
              "9        34041    CHEMBL674643  ...    uM   0.125\n",
              "\n",
              "[10 rows x 12 columns]"
            ]
          },
          "metadata": {
            "tags": []
          },
          "execution_count": 7
        }
      ]
    },
    {
      "cell_type": "code",
      "metadata": {
        "id": "4KRnSIxw1clQ",
        "colab_type": "code",
        "colab": {
          "base_uri": "https://localhost:8080/",
          "height": 35
        },
        "outputId": "de4c399f-a892-4656-b5dd-f8a1e771b2fb"
      },
      "source": [
        "bioact_df.shape"
      ],
      "execution_count": 8,
      "outputs": [
        {
          "output_type": "execute_result",
          "data": {
            "text/plain": [
              "(7178, 12)"
            ]
          },
          "metadata": {
            "tags": []
          },
          "execution_count": 8
        }
      ]
    },
    {
      "cell_type": "code",
      "metadata": {
        "id": "TuUYQJl51gq7",
        "colab_type": "code",
        "colab": {}
      },
      "source": [
        "bioact_df = bioact_df.dropna(axis=0, how='any') #delete entries with missing values"
      ],
      "execution_count": 9,
      "outputs": []
    },
    {
      "cell_type": "code",
      "metadata": {
        "id": "PTljWLIh1oOB",
        "colab_type": "code",
        "colab": {}
      },
      "source": [
        "bioact_df = bioact_df.drop_duplicates('molecule_chembl_id', keep='first') #Delete duplicates: Sometimes the same molecule (molecule_chembl_id) has been tested more than once"
      ],
      "execution_count": 10,
      "outputs": []
    },
    {
      "cell_type": "code",
      "metadata": {
        "id": "odlmF9fO2Oh-",
        "colab_type": "code",
        "colab": {
          "base_uri": "https://localhost:8080/",
          "height": 35
        },
        "outputId": "3dd6d45a-f619-4885-bd9e-fc09f03ec177"
      },
      "source": [
        "bioact_df.shape"
      ],
      "execution_count": 11,
      "outputs": [
        {
          "output_type": "execute_result",
          "data": {
            "text/plain": [
              "(5498, 12)"
            ]
          },
          "metadata": {
            "tags": []
          },
          "execution_count": 11
        }
      ]
    },
    {
      "cell_type": "code",
      "metadata": {
        "id": "SQda13MkvedL",
        "colab_type": "code",
        "colab": {
          "base_uri": "https://localhost:8080/",
          "height": 109
        },
        "outputId": "b1496a2c-94fd-40fd-d0b0-78ae40834841"
      },
      "source": [
        "print(bioact_df.units.unique())\n",
        "bioact_df = bioact_df.drop(bioact_df.index[~bioact_df.units.str.contains('M')])\n",
        "print(bioact_df.units.unique())\n",
        "bioact_df.shape"
      ],
      "execution_count": 12,
      "outputs": [
        {
          "output_type": "stream",
          "text": [
            "['uM' 'nM' 'M' \"10'1 ug/ml\" 'ug ml-1' \"10'-1microM\" \"10'1 uM\"\n",
            " \"10'-1 ug/ml\" \"10'-2 ug/ml\" \"10'2 uM\" '/uM' \"10'-6g/ml\" 'mM' 'umol/L'\n",
            " 'nmol/L']\n",
            "['uM' 'nM' 'M' \"10'-1microM\" \"10'1 uM\" \"10'2 uM\" '/uM' 'mM']\n"
          ],
          "name": "stdout"
        },
        {
          "output_type": "execute_result",
          "data": {
            "text/plain": [
              "(5428, 12)"
            ]
          },
          "metadata": {
            "tags": []
          },
          "execution_count": 12
        }
      ]
    },
    {
      "cell_type": "code",
      "metadata": {
        "id": "kuK9MzLHvj81",
        "colab_type": "code",
        "colab": {
          "base_uri": "https://localhost:8080/",
          "height": 400
        },
        "outputId": "c57e4356-757a-4861-da52-e8c15dd1ec8a"
      },
      "source": [
        "bioact_df = bioact_df.reset_index(drop=True) \n",
        "bioact_df.head()"
      ],
      "execution_count": 13,
      "outputs": [
        {
          "output_type": "execute_result",
          "data": {
            "text/html": [
              "<div>\n",
              "<style scoped>\n",
              "    .dataframe tbody tr th:only-of-type {\n",
              "        vertical-align: middle;\n",
              "    }\n",
              "\n",
              "    .dataframe tbody tr th {\n",
              "        vertical-align: top;\n",
              "    }\n",
              "\n",
              "    .dataframe thead th {\n",
              "        text-align: right;\n",
              "    }\n",
              "</style>\n",
              "<table border=\"1\" class=\"dataframe\">\n",
              "  <thead>\n",
              "    <tr style=\"text-align: right;\">\n",
              "      <th></th>\n",
              "      <th>activity_id</th>\n",
              "      <th>assay_chembl_id</th>\n",
              "      <th>assay_description</th>\n",
              "      <th>assay_type</th>\n",
              "      <th>canonical_smiles</th>\n",
              "      <th>molecule_chembl_id</th>\n",
              "      <th>relation</th>\n",
              "      <th>target_chembl_id</th>\n",
              "      <th>target_organism</th>\n",
              "      <th>type</th>\n",
              "      <th>units</th>\n",
              "      <th>value</th>\n",
              "    </tr>\n",
              "  </thead>\n",
              "  <tbody>\n",
              "    <tr>\n",
              "      <th>0</th>\n",
              "      <td>32260</td>\n",
              "      <td>CHEMBL674637</td>\n",
              "      <td>Inhibitory activity towards tyrosine phosphory...</td>\n",
              "      <td>B</td>\n",
              "      <td>Cc1cc(C)c(/C=C2\\C(=O)Nc3ncnc(Nc4ccc(F)c(Cl)c4)...</td>\n",
              "      <td>CHEMBL68920</td>\n",
              "      <td>=</td>\n",
              "      <td>CHEMBL203</td>\n",
              "      <td>Homo sapiens</td>\n",
              "      <td>IC50</td>\n",
              "      <td>uM</td>\n",
              "      <td>0.041</td>\n",
              "    </tr>\n",
              "    <tr>\n",
              "      <th>1</th>\n",
              "      <td>32267</td>\n",
              "      <td>CHEMBL674637</td>\n",
              "      <td>Inhibitory activity towards tyrosine phosphory...</td>\n",
              "      <td>B</td>\n",
              "      <td>Cc1cc(C(=O)N2CCOCC2)[nH]c1/C=C1\\C(=O)Nc2ncnc(N...</td>\n",
              "      <td>CHEMBL69960</td>\n",
              "      <td>=</td>\n",
              "      <td>CHEMBL203</td>\n",
              "      <td>Homo sapiens</td>\n",
              "      <td>IC50</td>\n",
              "      <td>uM</td>\n",
              "      <td>0.17</td>\n",
              "    </tr>\n",
              "    <tr>\n",
              "      <th>2</th>\n",
              "      <td>32680</td>\n",
              "      <td>CHEMBL677833</td>\n",
              "      <td>In vitro inhibition of Epidermal growth factor...</td>\n",
              "      <td>B</td>\n",
              "      <td>CN(c1ccccc1)c1ncnc2ccc(N/N=N/Cc3ccccn3)cc12</td>\n",
              "      <td>CHEMBL137635</td>\n",
              "      <td>=</td>\n",
              "      <td>CHEMBL203</td>\n",
              "      <td>Homo sapiens</td>\n",
              "      <td>IC50</td>\n",
              "      <td>uM</td>\n",
              "      <td>9.3</td>\n",
              "    </tr>\n",
              "    <tr>\n",
              "      <th>3</th>\n",
              "      <td>32770</td>\n",
              "      <td>CHEMBL674643</td>\n",
              "      <td>Inhibitory concentration of EGF dependent auto...</td>\n",
              "      <td>B</td>\n",
              "      <td>CC(=C(C#N)C#N)c1ccc(NC(=O)CCC(=O)O)cc1</td>\n",
              "      <td>CHEMBL306988</td>\n",
              "      <td>=</td>\n",
              "      <td>CHEMBL203</td>\n",
              "      <td>Homo sapiens</td>\n",
              "      <td>IC50</td>\n",
              "      <td>uM</td>\n",
              "      <td>500.0</td>\n",
              "    </tr>\n",
              "    <tr>\n",
              "      <th>4</th>\n",
              "      <td>32772</td>\n",
              "      <td>CHEMBL674643</td>\n",
              "      <td>Inhibitory concentration of EGF dependent auto...</td>\n",
              "      <td>B</td>\n",
              "      <td>O=C(O)/C=C/c1ccc(O)cc1</td>\n",
              "      <td>CHEMBL66879</td>\n",
              "      <td>=</td>\n",
              "      <td>CHEMBL203</td>\n",
              "      <td>Homo sapiens</td>\n",
              "      <td>IC50</td>\n",
              "      <td>uM</td>\n",
              "      <td>3000.0</td>\n",
              "    </tr>\n",
              "  </tbody>\n",
              "</table>\n",
              "</div>"
            ],
            "text/plain": [
              "   activity_id assay_chembl_id  ... units   value\n",
              "0        32260    CHEMBL674637  ...    uM   0.041\n",
              "1        32267    CHEMBL674637  ...    uM    0.17\n",
              "2        32680    CHEMBL677833  ...    uM     9.3\n",
              "3        32770    CHEMBL674643  ...    uM   500.0\n",
              "4        32772    CHEMBL674643  ...    uM  3000.0\n",
              "\n",
              "[5 rows x 12 columns]"
            ]
          },
          "metadata": {
            "tags": []
          },
          "execution_count": 13
        }
      ]
    },
    {
      "cell_type": "code",
      "metadata": {
        "id": "YkXXVnWN2YEi",
        "colab_type": "code",
        "colab": {}
      },
      "source": [
        "bioact_df.to_csv('bioactivity-raw.csv', index = False)"
      ],
      "execution_count": 14,
      "outputs": []
    },
    {
      "cell_type": "code",
      "metadata": {
        "id": "jBqaADdr3Nvf",
        "colab_type": "code",
        "colab": {
          "base_uri": "https://localhost:8080/",
          "height": 129
        },
        "outputId": "45dcfb73-e076-495d-e3c1-67278faed571"
      },
      "source": [
        "from google.colab import drive\n",
        "drive.mount('/content/gdrive/', force_remount=True)"
      ],
      "execution_count": 15,
      "outputs": [
        {
          "output_type": "stream",
          "text": [
            "Go to this URL in a browser: https://accounts.google.com/o/oauth2/auth?client_id=947318989803-6bn6qk8qdgf4n4g3pfee6491hc0brc4i.apps.googleusercontent.com&redirect_uri=urn%3aietf%3awg%3aoauth%3a2.0%3aoob&scope=email%20https%3a%2f%2fwww.googleapis.com%2fauth%2fdocs.test%20https%3a%2f%2fwww.googleapis.com%2fauth%2fdrive%20https%3a%2f%2fwww.googleapis.com%2fauth%2fdrive.photos.readonly%20https%3a%2f%2fwww.googleapis.com%2fauth%2fpeopleapi.readonly&response_type=code\n",
            "\n",
            "Enter your authorization code:\n",
            "··········\n",
            "Mounted at /content/gdrive/\n"
          ],
          "name": "stdout"
        }
      ]
    },
    {
      "cell_type": "code",
      "metadata": {
        "id": "zqK4BXAI3d_t",
        "colab_type": "code",
        "colab": {}
      },
      "source": [
        "! cp bioactivity-raw.csv \"/content/gdrive/My Drive/Colab Notebooks/Data\""
      ],
      "execution_count": 16,
      "outputs": []
    },
    {
      "cell_type": "markdown",
      "metadata": {
        "id": "W0F9-PiLn9_r",
        "colab_type": "text"
      },
      "source": [
        "Convert all value units to nM"
      ]
    },
    {
      "cell_type": "code",
      "metadata": {
        "id": "R6PxdUIReg4H",
        "colab_type": "code",
        "colab": {}
      },
      "source": [
        "def convert_to_NM(unit, bioactivity):\n",
        "  value = bioact_df['value']\n",
        "  if unit != \"nM\":\n",
        "        if unit == \"pM\":\n",
        "            value = float(bioactivity)/1000\n",
        "        elif unit == \"10'-11M\":\n",
        "            value = float(bioactivity)/100\n",
        "        elif unit == \"10'-10M\":\n",
        "            value = float(bioactivity)/10\n",
        "        elif unit == \"10'-8M\":\n",
        "            value = float(bioactivity)*10\n",
        "        elif unit == \"10'-1microM\" or unit == \"10'-7M\":\n",
        "            value = float(bioactivity)*100\n",
        "        elif unit == \"uM\" or unit == \"/uM\" or unit == \"10'-6M\":\n",
        "            value = float(bioactivity)*1000\n",
        "        elif unit == \"10'1 uM\":\n",
        "            value = float(bioactivity)*10000\n",
        "        elif unit == \"10'2 uM\":\n",
        "            value = float(bioactivity)*100000\n",
        "        elif unit == \"mM\":\n",
        "            value = float(bioactivity)*1000000\n",
        "        elif unit == \"M\":\n",
        "            value = float(bioactivity)*1000000000\n",
        "        else:\n",
        "            print ('unit not recognized...', unit)\n",
        "        return value\n",
        "  else: return bioactivity"
      ],
      "execution_count": 17,
      "outputs": []
    },
    {
      "cell_type": "code",
      "metadata": {
        "id": "a_8fURj-gs61",
        "colab_type": "code",
        "colab": {
          "base_uri": "https://localhost:8080/",
          "height": 730
        },
        "outputId": "1b3d078c-2e33-41b7-d5dd-db03b71a4cc7"
      },
      "source": [
        "bioactivity_nM = []\n",
        "for i, row in bioact_df.iterrows():\n",
        "    bioact_nM = convert_to_NM(row['units'], row['value'])\n",
        "    bioactivity_nM.append(bioact_nM)\n",
        "bioact_df['value'] = bioactivity_nM\n",
        "bioact_df['units'] = 'nM'\n",
        "bioact_df.head(10)"
      ],
      "execution_count": 18,
      "outputs": [
        {
          "output_type": "execute_result",
          "data": {
            "text/html": [
              "<div>\n",
              "<style scoped>\n",
              "    .dataframe tbody tr th:only-of-type {\n",
              "        vertical-align: middle;\n",
              "    }\n",
              "\n",
              "    .dataframe tbody tr th {\n",
              "        vertical-align: top;\n",
              "    }\n",
              "\n",
              "    .dataframe thead th {\n",
              "        text-align: right;\n",
              "    }\n",
              "</style>\n",
              "<table border=\"1\" class=\"dataframe\">\n",
              "  <thead>\n",
              "    <tr style=\"text-align: right;\">\n",
              "      <th></th>\n",
              "      <th>activity_id</th>\n",
              "      <th>assay_chembl_id</th>\n",
              "      <th>assay_description</th>\n",
              "      <th>assay_type</th>\n",
              "      <th>canonical_smiles</th>\n",
              "      <th>molecule_chembl_id</th>\n",
              "      <th>relation</th>\n",
              "      <th>target_chembl_id</th>\n",
              "      <th>target_organism</th>\n",
              "      <th>type</th>\n",
              "      <th>units</th>\n",
              "      <th>value</th>\n",
              "    </tr>\n",
              "  </thead>\n",
              "  <tbody>\n",
              "    <tr>\n",
              "      <th>0</th>\n",
              "      <td>32260</td>\n",
              "      <td>CHEMBL674637</td>\n",
              "      <td>Inhibitory activity towards tyrosine phosphory...</td>\n",
              "      <td>B</td>\n",
              "      <td>Cc1cc(C)c(/C=C2\\C(=O)Nc3ncnc(Nc4ccc(F)c(Cl)c4)...</td>\n",
              "      <td>CHEMBL68920</td>\n",
              "      <td>=</td>\n",
              "      <td>CHEMBL203</td>\n",
              "      <td>Homo sapiens</td>\n",
              "      <td>IC50</td>\n",
              "      <td>nM</td>\n",
              "      <td>41</td>\n",
              "    </tr>\n",
              "    <tr>\n",
              "      <th>1</th>\n",
              "      <td>32267</td>\n",
              "      <td>CHEMBL674637</td>\n",
              "      <td>Inhibitory activity towards tyrosine phosphory...</td>\n",
              "      <td>B</td>\n",
              "      <td>Cc1cc(C(=O)N2CCOCC2)[nH]c1/C=C1\\C(=O)Nc2ncnc(N...</td>\n",
              "      <td>CHEMBL69960</td>\n",
              "      <td>=</td>\n",
              "      <td>CHEMBL203</td>\n",
              "      <td>Homo sapiens</td>\n",
              "      <td>IC50</td>\n",
              "      <td>nM</td>\n",
              "      <td>170</td>\n",
              "    </tr>\n",
              "    <tr>\n",
              "      <th>2</th>\n",
              "      <td>32680</td>\n",
              "      <td>CHEMBL677833</td>\n",
              "      <td>In vitro inhibition of Epidermal growth factor...</td>\n",
              "      <td>B</td>\n",
              "      <td>CN(c1ccccc1)c1ncnc2ccc(N/N=N/Cc3ccccn3)cc12</td>\n",
              "      <td>CHEMBL137635</td>\n",
              "      <td>=</td>\n",
              "      <td>CHEMBL203</td>\n",
              "      <td>Homo sapiens</td>\n",
              "      <td>IC50</td>\n",
              "      <td>nM</td>\n",
              "      <td>9300</td>\n",
              "    </tr>\n",
              "    <tr>\n",
              "      <th>3</th>\n",
              "      <td>32770</td>\n",
              "      <td>CHEMBL674643</td>\n",
              "      <td>Inhibitory concentration of EGF dependent auto...</td>\n",
              "      <td>B</td>\n",
              "      <td>CC(=C(C#N)C#N)c1ccc(NC(=O)CCC(=O)O)cc1</td>\n",
              "      <td>CHEMBL306988</td>\n",
              "      <td>=</td>\n",
              "      <td>CHEMBL203</td>\n",
              "      <td>Homo sapiens</td>\n",
              "      <td>IC50</td>\n",
              "      <td>nM</td>\n",
              "      <td>500000</td>\n",
              "    </tr>\n",
              "    <tr>\n",
              "      <th>4</th>\n",
              "      <td>32772</td>\n",
              "      <td>CHEMBL674643</td>\n",
              "      <td>Inhibitory concentration of EGF dependent auto...</td>\n",
              "      <td>B</td>\n",
              "      <td>O=C(O)/C=C/c1ccc(O)cc1</td>\n",
              "      <td>CHEMBL66879</td>\n",
              "      <td>=</td>\n",
              "      <td>CHEMBL203</td>\n",
              "      <td>Homo sapiens</td>\n",
              "      <td>IC50</td>\n",
              "      <td>nM</td>\n",
              "      <td>3e+06</td>\n",
              "    </tr>\n",
              "    <tr>\n",
              "      <th>5</th>\n",
              "      <td>32780</td>\n",
              "      <td>CHEMBL674643</td>\n",
              "      <td>Inhibitory concentration of EGF dependent auto...</td>\n",
              "      <td>B</td>\n",
              "      <td>N#CC(C#N)=Cc1cc(O)ccc1[N+](=O)[O-]</td>\n",
              "      <td>CHEMBL77085</td>\n",
              "      <td>=</td>\n",
              "      <td>CHEMBL203</td>\n",
              "      <td>Homo sapiens</td>\n",
              "      <td>IC50</td>\n",
              "      <td>nM</td>\n",
              "      <td>96000</td>\n",
              "    </tr>\n",
              "    <tr>\n",
              "      <th>6</th>\n",
              "      <td>33406</td>\n",
              "      <td>CHEMBL674637</td>\n",
              "      <td>Inhibitory activity towards tyrosine phosphory...</td>\n",
              "      <td>B</td>\n",
              "      <td>Cc1cc(C(=O)NCCN2CCOCC2)[nH]c1/C=C1\\C(=O)N(C)c2...</td>\n",
              "      <td>CHEMBL443268</td>\n",
              "      <td>=</td>\n",
              "      <td>CHEMBL203</td>\n",
              "      <td>Homo sapiens</td>\n",
              "      <td>IC50</td>\n",
              "      <td>nM</td>\n",
              "      <td>5310</td>\n",
              "    </tr>\n",
              "    <tr>\n",
              "      <th>7</th>\n",
              "      <td>34039</td>\n",
              "      <td>CHEMBL674643</td>\n",
              "      <td>Inhibitory concentration of EGF dependent auto...</td>\n",
              "      <td>B</td>\n",
              "      <td>COc1cc(/C=C(\\C#N)C(=O)O)cc(OC)c1O</td>\n",
              "      <td>CHEMBL76979</td>\n",
              "      <td>=</td>\n",
              "      <td>CHEMBL203</td>\n",
              "      <td>Homo sapiens</td>\n",
              "      <td>IC50</td>\n",
              "      <td>nM</td>\n",
              "      <td>264000</td>\n",
              "    </tr>\n",
              "    <tr>\n",
              "      <th>8</th>\n",
              "      <td>34041</td>\n",
              "      <td>CHEMBL674643</td>\n",
              "      <td>Inhibitory concentration of EGF dependent auto...</td>\n",
              "      <td>B</td>\n",
              "      <td>N#CC(C#N)=C(N)/C(C#N)=C/c1ccc(O)cc1</td>\n",
              "      <td>CHEMBL76589</td>\n",
              "      <td>=</td>\n",
              "      <td>CHEMBL203</td>\n",
              "      <td>Homo sapiens</td>\n",
              "      <td>IC50</td>\n",
              "      <td>nM</td>\n",
              "      <td>125</td>\n",
              "    </tr>\n",
              "    <tr>\n",
              "      <th>9</th>\n",
              "      <td>34049</td>\n",
              "      <td>CHEMBL674643</td>\n",
              "      <td>Inhibitory concentration of EGF dependent auto...</td>\n",
              "      <td>B</td>\n",
              "      <td>N#CC(C#N)=Cc1ccc(O)c(O)c1</td>\n",
              "      <td>CHEMBL76904</td>\n",
              "      <td>=</td>\n",
              "      <td>CHEMBL203</td>\n",
              "      <td>Homo sapiens</td>\n",
              "      <td>IC50</td>\n",
              "      <td>nM</td>\n",
              "      <td>35000</td>\n",
              "    </tr>\n",
              "  </tbody>\n",
              "</table>\n",
              "</div>"
            ],
            "text/plain": [
              "   activity_id assay_chembl_id  ... units   value\n",
              "0        32260    CHEMBL674637  ...    nM      41\n",
              "1        32267    CHEMBL674637  ...    nM     170\n",
              "2        32680    CHEMBL677833  ...    nM    9300\n",
              "3        32770    CHEMBL674643  ...    nM  500000\n",
              "4        32772    CHEMBL674643  ...    nM   3e+06\n",
              "5        32780    CHEMBL674643  ...    nM   96000\n",
              "6        33406    CHEMBL674637  ...    nM    5310\n",
              "7        34039    CHEMBL674643  ...    nM  264000\n",
              "8        34041    CHEMBL674643  ...    nM     125\n",
              "9        34049    CHEMBL674643  ...    nM   35000\n",
              "\n",
              "[10 rows x 12 columns]"
            ]
          },
          "metadata": {
            "tags": []
          },
          "execution_count": 18
        }
      ]
    },
    {
      "cell_type": "code",
      "metadata": {
        "id": "Y4kA9_fkhMHj",
        "colab_type": "code",
        "colab": {
          "base_uri": "https://localhost:8080/",
          "height": 35
        },
        "outputId": "cf67d34c-e0b9-4235-cabb-8d2f0ee703eb"
      },
      "source": [
        "bioact_df.shape"
      ],
      "execution_count": 19,
      "outputs": [
        {
          "output_type": "execute_result",
          "data": {
            "text/plain": [
              "(5428, 12)"
            ]
          },
          "metadata": {
            "tags": []
          },
          "execution_count": 19
        }
      ]
    },
    {
      "cell_type": "code",
      "metadata": {
        "id": "WFxfMqZKmK16",
        "colab_type": "code",
        "colab": {
          "base_uri": "https://localhost:8080/",
          "height": 363
        },
        "outputId": "8b934001-beca-421b-93e8-da90885726a4"
      },
      "source": [
        "selection = ['molecule_chembl_id','canonical_smiles','type','value','units']\n",
        "df1 = bioact_df[selection]\n",
        "df1.head(10)"
      ],
      "execution_count": 20,
      "outputs": [
        {
          "output_type": "execute_result",
          "data": {
            "text/html": [
              "<div>\n",
              "<style scoped>\n",
              "    .dataframe tbody tr th:only-of-type {\n",
              "        vertical-align: middle;\n",
              "    }\n",
              "\n",
              "    .dataframe tbody tr th {\n",
              "        vertical-align: top;\n",
              "    }\n",
              "\n",
              "    .dataframe thead th {\n",
              "        text-align: right;\n",
              "    }\n",
              "</style>\n",
              "<table border=\"1\" class=\"dataframe\">\n",
              "  <thead>\n",
              "    <tr style=\"text-align: right;\">\n",
              "      <th></th>\n",
              "      <th>molecule_chembl_id</th>\n",
              "      <th>canonical_smiles</th>\n",
              "      <th>type</th>\n",
              "      <th>value</th>\n",
              "      <th>units</th>\n",
              "    </tr>\n",
              "  </thead>\n",
              "  <tbody>\n",
              "    <tr>\n",
              "      <th>0</th>\n",
              "      <td>CHEMBL68920</td>\n",
              "      <td>Cc1cc(C)c(/C=C2\\C(=O)Nc3ncnc(Nc4ccc(F)c(Cl)c4)...</td>\n",
              "      <td>IC50</td>\n",
              "      <td>41</td>\n",
              "      <td>nM</td>\n",
              "    </tr>\n",
              "    <tr>\n",
              "      <th>1</th>\n",
              "      <td>CHEMBL69960</td>\n",
              "      <td>Cc1cc(C(=O)N2CCOCC2)[nH]c1/C=C1\\C(=O)Nc2ncnc(N...</td>\n",
              "      <td>IC50</td>\n",
              "      <td>170</td>\n",
              "      <td>nM</td>\n",
              "    </tr>\n",
              "    <tr>\n",
              "      <th>2</th>\n",
              "      <td>CHEMBL137635</td>\n",
              "      <td>CN(c1ccccc1)c1ncnc2ccc(N/N=N/Cc3ccccn3)cc12</td>\n",
              "      <td>IC50</td>\n",
              "      <td>9300</td>\n",
              "      <td>nM</td>\n",
              "    </tr>\n",
              "    <tr>\n",
              "      <th>3</th>\n",
              "      <td>CHEMBL306988</td>\n",
              "      <td>CC(=C(C#N)C#N)c1ccc(NC(=O)CCC(=O)O)cc1</td>\n",
              "      <td>IC50</td>\n",
              "      <td>500000</td>\n",
              "      <td>nM</td>\n",
              "    </tr>\n",
              "    <tr>\n",
              "      <th>4</th>\n",
              "      <td>CHEMBL66879</td>\n",
              "      <td>O=C(O)/C=C/c1ccc(O)cc1</td>\n",
              "      <td>IC50</td>\n",
              "      <td>3e+06</td>\n",
              "      <td>nM</td>\n",
              "    </tr>\n",
              "    <tr>\n",
              "      <th>5</th>\n",
              "      <td>CHEMBL77085</td>\n",
              "      <td>N#CC(C#N)=Cc1cc(O)ccc1[N+](=O)[O-]</td>\n",
              "      <td>IC50</td>\n",
              "      <td>96000</td>\n",
              "      <td>nM</td>\n",
              "    </tr>\n",
              "    <tr>\n",
              "      <th>6</th>\n",
              "      <td>CHEMBL443268</td>\n",
              "      <td>Cc1cc(C(=O)NCCN2CCOCC2)[nH]c1/C=C1\\C(=O)N(C)c2...</td>\n",
              "      <td>IC50</td>\n",
              "      <td>5310</td>\n",
              "      <td>nM</td>\n",
              "    </tr>\n",
              "    <tr>\n",
              "      <th>7</th>\n",
              "      <td>CHEMBL76979</td>\n",
              "      <td>COc1cc(/C=C(\\C#N)C(=O)O)cc(OC)c1O</td>\n",
              "      <td>IC50</td>\n",
              "      <td>264000</td>\n",
              "      <td>nM</td>\n",
              "    </tr>\n",
              "    <tr>\n",
              "      <th>8</th>\n",
              "      <td>CHEMBL76589</td>\n",
              "      <td>N#CC(C#N)=C(N)/C(C#N)=C/c1ccc(O)cc1</td>\n",
              "      <td>IC50</td>\n",
              "      <td>125</td>\n",
              "      <td>nM</td>\n",
              "    </tr>\n",
              "    <tr>\n",
              "      <th>9</th>\n",
              "      <td>CHEMBL76904</td>\n",
              "      <td>N#CC(C#N)=Cc1ccc(O)c(O)c1</td>\n",
              "      <td>IC50</td>\n",
              "      <td>35000</td>\n",
              "      <td>nM</td>\n",
              "    </tr>\n",
              "  </tbody>\n",
              "</table>\n",
              "</div>"
            ],
            "text/plain": [
              "  molecule_chembl_id  ... units\n",
              "0        CHEMBL68920  ...    nM\n",
              "1        CHEMBL69960  ...    nM\n",
              "2       CHEMBL137635  ...    nM\n",
              "3       CHEMBL306988  ...    nM\n",
              "4        CHEMBL66879  ...    nM\n",
              "5        CHEMBL77085  ...    nM\n",
              "6       CHEMBL443268  ...    nM\n",
              "7        CHEMBL76979  ...    nM\n",
              "8        CHEMBL76589  ...    nM\n",
              "9        CHEMBL76904  ...    nM\n",
              "\n",
              "[10 rows x 5 columns]"
            ]
          },
          "metadata": {
            "tags": []
          },
          "execution_count": 20
        }
      ]
    },
    {
      "cell_type": "markdown",
      "metadata": {
        "id": "KJPA7XcNoL-A",
        "colab_type": "text"
      },
      "source": [
        "Convert the IC50 values to pIC50"
      ]
    },
    {
      "cell_type": "code",
      "metadata": {
        "id": "3nmgf8pIqflV",
        "colab_type": "code",
        "colab": {
          "base_uri": "https://localhost:8080/",
          "height": 363
        },
        "outputId": "6f855993-fb81-4de4-ba46-fe799bc73b8f"
      },
      "source": [
        "df2 = df1.rename(columns= {'value':'value_IC50'})\n",
        "df2.head(10)"
      ],
      "execution_count": 21,
      "outputs": [
        {
          "output_type": "execute_result",
          "data": {
            "text/html": [
              "<div>\n",
              "<style scoped>\n",
              "    .dataframe tbody tr th:only-of-type {\n",
              "        vertical-align: middle;\n",
              "    }\n",
              "\n",
              "    .dataframe tbody tr th {\n",
              "        vertical-align: top;\n",
              "    }\n",
              "\n",
              "    .dataframe thead th {\n",
              "        text-align: right;\n",
              "    }\n",
              "</style>\n",
              "<table border=\"1\" class=\"dataframe\">\n",
              "  <thead>\n",
              "    <tr style=\"text-align: right;\">\n",
              "      <th></th>\n",
              "      <th>molecule_chembl_id</th>\n",
              "      <th>canonical_smiles</th>\n",
              "      <th>type</th>\n",
              "      <th>value_IC50</th>\n",
              "      <th>units</th>\n",
              "    </tr>\n",
              "  </thead>\n",
              "  <tbody>\n",
              "    <tr>\n",
              "      <th>0</th>\n",
              "      <td>CHEMBL68920</td>\n",
              "      <td>Cc1cc(C)c(/C=C2\\C(=O)Nc3ncnc(Nc4ccc(F)c(Cl)c4)...</td>\n",
              "      <td>IC50</td>\n",
              "      <td>41</td>\n",
              "      <td>nM</td>\n",
              "    </tr>\n",
              "    <tr>\n",
              "      <th>1</th>\n",
              "      <td>CHEMBL69960</td>\n",
              "      <td>Cc1cc(C(=O)N2CCOCC2)[nH]c1/C=C1\\C(=O)Nc2ncnc(N...</td>\n",
              "      <td>IC50</td>\n",
              "      <td>170</td>\n",
              "      <td>nM</td>\n",
              "    </tr>\n",
              "    <tr>\n",
              "      <th>2</th>\n",
              "      <td>CHEMBL137635</td>\n",
              "      <td>CN(c1ccccc1)c1ncnc2ccc(N/N=N/Cc3ccccn3)cc12</td>\n",
              "      <td>IC50</td>\n",
              "      <td>9300</td>\n",
              "      <td>nM</td>\n",
              "    </tr>\n",
              "    <tr>\n",
              "      <th>3</th>\n",
              "      <td>CHEMBL306988</td>\n",
              "      <td>CC(=C(C#N)C#N)c1ccc(NC(=O)CCC(=O)O)cc1</td>\n",
              "      <td>IC50</td>\n",
              "      <td>500000</td>\n",
              "      <td>nM</td>\n",
              "    </tr>\n",
              "    <tr>\n",
              "      <th>4</th>\n",
              "      <td>CHEMBL66879</td>\n",
              "      <td>O=C(O)/C=C/c1ccc(O)cc1</td>\n",
              "      <td>IC50</td>\n",
              "      <td>3e+06</td>\n",
              "      <td>nM</td>\n",
              "    </tr>\n",
              "    <tr>\n",
              "      <th>5</th>\n",
              "      <td>CHEMBL77085</td>\n",
              "      <td>N#CC(C#N)=Cc1cc(O)ccc1[N+](=O)[O-]</td>\n",
              "      <td>IC50</td>\n",
              "      <td>96000</td>\n",
              "      <td>nM</td>\n",
              "    </tr>\n",
              "    <tr>\n",
              "      <th>6</th>\n",
              "      <td>CHEMBL443268</td>\n",
              "      <td>Cc1cc(C(=O)NCCN2CCOCC2)[nH]c1/C=C1\\C(=O)N(C)c2...</td>\n",
              "      <td>IC50</td>\n",
              "      <td>5310</td>\n",
              "      <td>nM</td>\n",
              "    </tr>\n",
              "    <tr>\n",
              "      <th>7</th>\n",
              "      <td>CHEMBL76979</td>\n",
              "      <td>COc1cc(/C=C(\\C#N)C(=O)O)cc(OC)c1O</td>\n",
              "      <td>IC50</td>\n",
              "      <td>264000</td>\n",
              "      <td>nM</td>\n",
              "    </tr>\n",
              "    <tr>\n",
              "      <th>8</th>\n",
              "      <td>CHEMBL76589</td>\n",
              "      <td>N#CC(C#N)=C(N)/C(C#N)=C/c1ccc(O)cc1</td>\n",
              "      <td>IC50</td>\n",
              "      <td>125</td>\n",
              "      <td>nM</td>\n",
              "    </tr>\n",
              "    <tr>\n",
              "      <th>9</th>\n",
              "      <td>CHEMBL76904</td>\n",
              "      <td>N#CC(C#N)=Cc1ccc(O)c(O)c1</td>\n",
              "      <td>IC50</td>\n",
              "      <td>35000</td>\n",
              "      <td>nM</td>\n",
              "    </tr>\n",
              "  </tbody>\n",
              "</table>\n",
              "</div>"
            ],
            "text/plain": [
              "  molecule_chembl_id  ... units\n",
              "0        CHEMBL68920  ...    nM\n",
              "1        CHEMBL69960  ...    nM\n",
              "2       CHEMBL137635  ...    nM\n",
              "3       CHEMBL306988  ...    nM\n",
              "4        CHEMBL66879  ...    nM\n",
              "5        CHEMBL77085  ...    nM\n",
              "6       CHEMBL443268  ...    nM\n",
              "7        CHEMBL76979  ...    nM\n",
              "8        CHEMBL76589  ...    nM\n",
              "9        CHEMBL76904  ...    nM\n",
              "\n",
              "[10 rows x 5 columns]"
            ]
          },
          "metadata": {
            "tags": []
          },
          "execution_count": 21
        }
      ]
    },
    {
      "cell_type": "code",
      "metadata": {
        "id": "2Yu3uV8pv_yB",
        "colab_type": "code",
        "colab": {
          "base_uri": "https://localhost:8080/",
          "height": 225
        },
        "outputId": "810ce666-4f38-42be-c975-4d74bd9462ae"
      },
      "source": [
        "df2 = df2[~df2['canonical_smiles'].isnull()]\n",
        "print(df2.shape)\n",
        "df2.head()"
      ],
      "execution_count": 22,
      "outputs": [
        {
          "output_type": "stream",
          "text": [
            "(5428, 5)\n"
          ],
          "name": "stdout"
        },
        {
          "output_type": "execute_result",
          "data": {
            "text/html": [
              "<div>\n",
              "<style scoped>\n",
              "    .dataframe tbody tr th:only-of-type {\n",
              "        vertical-align: middle;\n",
              "    }\n",
              "\n",
              "    .dataframe tbody tr th {\n",
              "        vertical-align: top;\n",
              "    }\n",
              "\n",
              "    .dataframe thead th {\n",
              "        text-align: right;\n",
              "    }\n",
              "</style>\n",
              "<table border=\"1\" class=\"dataframe\">\n",
              "  <thead>\n",
              "    <tr style=\"text-align: right;\">\n",
              "      <th></th>\n",
              "      <th>molecule_chembl_id</th>\n",
              "      <th>canonical_smiles</th>\n",
              "      <th>type</th>\n",
              "      <th>value_IC50</th>\n",
              "      <th>units</th>\n",
              "    </tr>\n",
              "  </thead>\n",
              "  <tbody>\n",
              "    <tr>\n",
              "      <th>0</th>\n",
              "      <td>CHEMBL68920</td>\n",
              "      <td>Cc1cc(C)c(/C=C2\\C(=O)Nc3ncnc(Nc4ccc(F)c(Cl)c4)...</td>\n",
              "      <td>IC50</td>\n",
              "      <td>41</td>\n",
              "      <td>nM</td>\n",
              "    </tr>\n",
              "    <tr>\n",
              "      <th>1</th>\n",
              "      <td>CHEMBL69960</td>\n",
              "      <td>Cc1cc(C(=O)N2CCOCC2)[nH]c1/C=C1\\C(=O)Nc2ncnc(N...</td>\n",
              "      <td>IC50</td>\n",
              "      <td>170</td>\n",
              "      <td>nM</td>\n",
              "    </tr>\n",
              "    <tr>\n",
              "      <th>2</th>\n",
              "      <td>CHEMBL137635</td>\n",
              "      <td>CN(c1ccccc1)c1ncnc2ccc(N/N=N/Cc3ccccn3)cc12</td>\n",
              "      <td>IC50</td>\n",
              "      <td>9300</td>\n",
              "      <td>nM</td>\n",
              "    </tr>\n",
              "    <tr>\n",
              "      <th>3</th>\n",
              "      <td>CHEMBL306988</td>\n",
              "      <td>CC(=C(C#N)C#N)c1ccc(NC(=O)CCC(=O)O)cc1</td>\n",
              "      <td>IC50</td>\n",
              "      <td>500000</td>\n",
              "      <td>nM</td>\n",
              "    </tr>\n",
              "    <tr>\n",
              "      <th>4</th>\n",
              "      <td>CHEMBL66879</td>\n",
              "      <td>O=C(O)/C=C/c1ccc(O)cc1</td>\n",
              "      <td>IC50</td>\n",
              "      <td>3e+06</td>\n",
              "      <td>nM</td>\n",
              "    </tr>\n",
              "  </tbody>\n",
              "</table>\n",
              "</div>"
            ],
            "text/plain": [
              "  molecule_chembl_id  ... units\n",
              "0        CHEMBL68920  ...    nM\n",
              "1        CHEMBL69960  ...    nM\n",
              "2       CHEMBL137635  ...    nM\n",
              "3       CHEMBL306988  ...    nM\n",
              "4        CHEMBL66879  ...    nM\n",
              "\n",
              "[5 rows x 5 columns]"
            ]
          },
          "metadata": {
            "tags": []
          },
          "execution_count": 22
        }
      ]
    },
    {
      "cell_type": "markdown",
      "metadata": {
        "id": "hopD1YoZbEAn",
        "colab_type": "text"
      },
      "source": [
        "To allow IC50 data to be more uniformly distributed, we will convert IC50 to the negative logarithmic scale which is essentially -log10(IC50).\n",
        "\n",
        "This custom function pIC50() will accept a DataFrame as input and will:\n",
        "\n",
        "- Take the IC50 values from the value_IC50 column and converts it from nM to M by multiplying the value by 10$^{-9}$\n",
        "- Take the molar value and apply -log10\n",
        "- Delete the value_IC50 column and create a new value_pIC50 column\n"
      ]
    },
    {
      "cell_type": "code",
      "metadata": {
        "id": "_P3B92msot-t",
        "colab_type": "code",
        "colab": {}
      },
      "source": [
        "df3 = df2.reset_index(drop=True)"
      ],
      "execution_count": 23,
      "outputs": []
    },
    {
      "cell_type": "code",
      "metadata": {
        "id": "Ng0Qecrpo85D",
        "colab_type": "code",
        "colab": {}
      },
      "source": [
        "# dfx = df2.head(5)\n",
        "ic50 = df3['value_IC50'].astype(float)"
      ],
      "execution_count": 24,
      "outputs": []
    },
    {
      "cell_type": "code",
      "metadata": {
        "id": "hJOnXYYOwUUW",
        "colab_type": "code",
        "colab": {
          "base_uri": "https://localhost:8080/",
          "height": 237
        },
        "outputId": "46605f00-9d8d-45f7-aad7-1223ec3473fe"
      },
      "source": [
        "print(len(ic50))\n",
        "print(ic50.head(10))"
      ],
      "execution_count": 25,
      "outputs": [
        {
          "output_type": "stream",
          "text": [
            "5428\n",
            "0         41.0\n",
            "1        170.0\n",
            "2       9300.0\n",
            "3     500000.0\n",
            "4    3000000.0\n",
            "5      96000.0\n",
            "6       5310.0\n",
            "7     264000.0\n",
            "8        125.0\n",
            "9      35000.0\n",
            "Name: value_IC50, dtype: float64\n"
          ],
          "name": "stdout"
        }
      ]
    },
    {
      "cell_type": "code",
      "metadata": {
        "id": "HDgg2s1ZwWAN",
        "colab_type": "code",
        "colab": {
          "base_uri": "https://localhost:8080/",
          "height": 263
        },
        "outputId": "00534c02-10d1-41d9-b4c6-2b8197e1e2d7"
      },
      "source": [
        "pIC50 = pd.Series() \n",
        "i = 0\n",
        "while i < len(df3.value_IC50):\n",
        "    value = 9 - math.log10(ic50[i]) # pIC50=-log10(IC50 mol/l) --> for nM: -log10(IC50*10**-9)= 9-log10(IC50)\n",
        "    if value < 0:\n",
        "        print(\"Negative pIC50 value at index\"+str(i))\n",
        "    pIC50.at[i] = value\n",
        "    i += 1\n",
        "    \n",
        "df3['value_pIC50'] = pIC50\n",
        "df3.head()"
      ],
      "execution_count": 26,
      "outputs": [
        {
          "output_type": "stream",
          "text": [
            "/usr/local/lib/python3.6/dist-packages/ipykernel_launcher.py:1: DeprecationWarning: The default dtype for empty Series will be 'object' instead of 'float64' in a future version. Specify a dtype explicitly to silence this warning.\n",
            "  \"\"\"Entry point for launching an IPython kernel.\n"
          ],
          "name": "stderr"
        },
        {
          "output_type": "execute_result",
          "data": {
            "text/html": [
              "<div>\n",
              "<style scoped>\n",
              "    .dataframe tbody tr th:only-of-type {\n",
              "        vertical-align: middle;\n",
              "    }\n",
              "\n",
              "    .dataframe tbody tr th {\n",
              "        vertical-align: top;\n",
              "    }\n",
              "\n",
              "    .dataframe thead th {\n",
              "        text-align: right;\n",
              "    }\n",
              "</style>\n",
              "<table border=\"1\" class=\"dataframe\">\n",
              "  <thead>\n",
              "    <tr style=\"text-align: right;\">\n",
              "      <th></th>\n",
              "      <th>molecule_chembl_id</th>\n",
              "      <th>canonical_smiles</th>\n",
              "      <th>type</th>\n",
              "      <th>value_IC50</th>\n",
              "      <th>units</th>\n",
              "      <th>value_pIC50</th>\n",
              "    </tr>\n",
              "  </thead>\n",
              "  <tbody>\n",
              "    <tr>\n",
              "      <th>0</th>\n",
              "      <td>CHEMBL68920</td>\n",
              "      <td>Cc1cc(C)c(/C=C2\\C(=O)Nc3ncnc(Nc4ccc(F)c(Cl)c4)...</td>\n",
              "      <td>IC50</td>\n",
              "      <td>41</td>\n",
              "      <td>nM</td>\n",
              "      <td>7.387216</td>\n",
              "    </tr>\n",
              "    <tr>\n",
              "      <th>1</th>\n",
              "      <td>CHEMBL69960</td>\n",
              "      <td>Cc1cc(C(=O)N2CCOCC2)[nH]c1/C=C1\\C(=O)Nc2ncnc(N...</td>\n",
              "      <td>IC50</td>\n",
              "      <td>170</td>\n",
              "      <td>nM</td>\n",
              "      <td>6.769551</td>\n",
              "    </tr>\n",
              "    <tr>\n",
              "      <th>2</th>\n",
              "      <td>CHEMBL137635</td>\n",
              "      <td>CN(c1ccccc1)c1ncnc2ccc(N/N=N/Cc3ccccn3)cc12</td>\n",
              "      <td>IC50</td>\n",
              "      <td>9300</td>\n",
              "      <td>nM</td>\n",
              "      <td>5.031517</td>\n",
              "    </tr>\n",
              "    <tr>\n",
              "      <th>3</th>\n",
              "      <td>CHEMBL306988</td>\n",
              "      <td>CC(=C(C#N)C#N)c1ccc(NC(=O)CCC(=O)O)cc1</td>\n",
              "      <td>IC50</td>\n",
              "      <td>500000</td>\n",
              "      <td>nM</td>\n",
              "      <td>3.301030</td>\n",
              "    </tr>\n",
              "    <tr>\n",
              "      <th>4</th>\n",
              "      <td>CHEMBL66879</td>\n",
              "      <td>O=C(O)/C=C/c1ccc(O)cc1</td>\n",
              "      <td>IC50</td>\n",
              "      <td>3e+06</td>\n",
              "      <td>nM</td>\n",
              "      <td>2.522879</td>\n",
              "    </tr>\n",
              "  </tbody>\n",
              "</table>\n",
              "</div>"
            ],
            "text/plain": [
              "  molecule_chembl_id  ... value_pIC50\n",
              "0        CHEMBL68920  ...    7.387216\n",
              "1        CHEMBL69960  ...    6.769551\n",
              "2       CHEMBL137635  ...    5.031517\n",
              "3       CHEMBL306988  ...    3.301030\n",
              "4        CHEMBL66879  ...    2.522879\n",
              "\n",
              "[5 rows x 6 columns]"
            ]
          },
          "metadata": {
            "tags": []
          },
          "execution_count": 26
        }
      ]
    },
    {
      "cell_type": "code",
      "metadata": {
        "id": "HVojxIRdygYq",
        "colab_type": "code",
        "colab": {
          "base_uri": "https://localhost:8080/",
          "height": 363
        },
        "outputId": "955768ac-c01c-418c-ddb0-a3930161ded5"
      },
      "source": [
        "selection = ['molecule_chembl_id','canonical_smiles','value_IC50','value_pIC50','units']\n",
        "df = df3[selection]\n",
        "df.head(10)"
      ],
      "execution_count": 27,
      "outputs": [
        {
          "output_type": "execute_result",
          "data": {
            "text/html": [
              "<div>\n",
              "<style scoped>\n",
              "    .dataframe tbody tr th:only-of-type {\n",
              "        vertical-align: middle;\n",
              "    }\n",
              "\n",
              "    .dataframe tbody tr th {\n",
              "        vertical-align: top;\n",
              "    }\n",
              "\n",
              "    .dataframe thead th {\n",
              "        text-align: right;\n",
              "    }\n",
              "</style>\n",
              "<table border=\"1\" class=\"dataframe\">\n",
              "  <thead>\n",
              "    <tr style=\"text-align: right;\">\n",
              "      <th></th>\n",
              "      <th>molecule_chembl_id</th>\n",
              "      <th>canonical_smiles</th>\n",
              "      <th>value_IC50</th>\n",
              "      <th>value_pIC50</th>\n",
              "      <th>units</th>\n",
              "    </tr>\n",
              "  </thead>\n",
              "  <tbody>\n",
              "    <tr>\n",
              "      <th>0</th>\n",
              "      <td>CHEMBL68920</td>\n",
              "      <td>Cc1cc(C)c(/C=C2\\C(=O)Nc3ncnc(Nc4ccc(F)c(Cl)c4)...</td>\n",
              "      <td>41</td>\n",
              "      <td>7.387216</td>\n",
              "      <td>nM</td>\n",
              "    </tr>\n",
              "    <tr>\n",
              "      <th>1</th>\n",
              "      <td>CHEMBL69960</td>\n",
              "      <td>Cc1cc(C(=O)N2CCOCC2)[nH]c1/C=C1\\C(=O)Nc2ncnc(N...</td>\n",
              "      <td>170</td>\n",
              "      <td>6.769551</td>\n",
              "      <td>nM</td>\n",
              "    </tr>\n",
              "    <tr>\n",
              "      <th>2</th>\n",
              "      <td>CHEMBL137635</td>\n",
              "      <td>CN(c1ccccc1)c1ncnc2ccc(N/N=N/Cc3ccccn3)cc12</td>\n",
              "      <td>9300</td>\n",
              "      <td>5.031517</td>\n",
              "      <td>nM</td>\n",
              "    </tr>\n",
              "    <tr>\n",
              "      <th>3</th>\n",
              "      <td>CHEMBL306988</td>\n",
              "      <td>CC(=C(C#N)C#N)c1ccc(NC(=O)CCC(=O)O)cc1</td>\n",
              "      <td>500000</td>\n",
              "      <td>3.301030</td>\n",
              "      <td>nM</td>\n",
              "    </tr>\n",
              "    <tr>\n",
              "      <th>4</th>\n",
              "      <td>CHEMBL66879</td>\n",
              "      <td>O=C(O)/C=C/c1ccc(O)cc1</td>\n",
              "      <td>3e+06</td>\n",
              "      <td>2.522879</td>\n",
              "      <td>nM</td>\n",
              "    </tr>\n",
              "    <tr>\n",
              "      <th>5</th>\n",
              "      <td>CHEMBL77085</td>\n",
              "      <td>N#CC(C#N)=Cc1cc(O)ccc1[N+](=O)[O-]</td>\n",
              "      <td>96000</td>\n",
              "      <td>4.017729</td>\n",
              "      <td>nM</td>\n",
              "    </tr>\n",
              "    <tr>\n",
              "      <th>6</th>\n",
              "      <td>CHEMBL443268</td>\n",
              "      <td>Cc1cc(C(=O)NCCN2CCOCC2)[nH]c1/C=C1\\C(=O)N(C)c2...</td>\n",
              "      <td>5310</td>\n",
              "      <td>5.274905</td>\n",
              "      <td>nM</td>\n",
              "    </tr>\n",
              "    <tr>\n",
              "      <th>7</th>\n",
              "      <td>CHEMBL76979</td>\n",
              "      <td>COc1cc(/C=C(\\C#N)C(=O)O)cc(OC)c1O</td>\n",
              "      <td>264000</td>\n",
              "      <td>3.578396</td>\n",
              "      <td>nM</td>\n",
              "    </tr>\n",
              "    <tr>\n",
              "      <th>8</th>\n",
              "      <td>CHEMBL76589</td>\n",
              "      <td>N#CC(C#N)=C(N)/C(C#N)=C/c1ccc(O)cc1</td>\n",
              "      <td>125</td>\n",
              "      <td>6.903090</td>\n",
              "      <td>nM</td>\n",
              "    </tr>\n",
              "    <tr>\n",
              "      <th>9</th>\n",
              "      <td>CHEMBL76904</td>\n",
              "      <td>N#CC(C#N)=Cc1ccc(O)c(O)c1</td>\n",
              "      <td>35000</td>\n",
              "      <td>4.455932</td>\n",
              "      <td>nM</td>\n",
              "    </tr>\n",
              "  </tbody>\n",
              "</table>\n",
              "</div>"
            ],
            "text/plain": [
              "  molecule_chembl_id  ... units\n",
              "0        CHEMBL68920  ...    nM\n",
              "1        CHEMBL69960  ...    nM\n",
              "2       CHEMBL137635  ...    nM\n",
              "3       CHEMBL306988  ...    nM\n",
              "4        CHEMBL66879  ...    nM\n",
              "5        CHEMBL77085  ...    nM\n",
              "6       CHEMBL443268  ...    nM\n",
              "7        CHEMBL76979  ...    nM\n",
              "8        CHEMBL76589  ...    nM\n",
              "9        CHEMBL76904  ...    nM\n",
              "\n",
              "[10 rows x 5 columns]"
            ]
          },
          "metadata": {
            "tags": []
          },
          "execution_count": 27
        }
      ]
    },
    {
      "cell_type": "code",
      "metadata": {
        "id": "l9LRffp1zIjM",
        "colab_type": "code",
        "colab": {}
      },
      "source": [
        "df.to_csv('filtered-data.csv', index = False)"
      ],
      "execution_count": 28,
      "outputs": []
    },
    {
      "cell_type": "code",
      "metadata": {
        "id": "K7pOXBd1zMWe",
        "colab_type": "code",
        "colab": {}
      },
      "source": [
        "! cp filtered-data.csv \"/content/gdrive/My Drive/Colab Notebooks/Data\""
      ],
      "execution_count": 29,
      "outputs": []
    },
    {
      "cell_type": "code",
      "metadata": {
        "id": "AXbHneM9rw3r",
        "colab_type": "code",
        "colab": {}
      },
      "source": [
        "import numpy as np\n",
        "from rdkit import Chem\n",
        "from rdkit.Chem import Descriptors, Lipinski"
      ],
      "execution_count": 33,
      "outputs": []
    },
    {
      "cell_type": "code",
      "metadata": {
        "id": "mjoHD2imr5ul",
        "colab_type": "code",
        "colab": {}
      },
      "source": [
        "def lipinski(smiles, verbose=False):\n",
        "  moldata = []\n",
        "  for element in smiles:\n",
        "    mol = Chem.MolFromSmiles(element)\n",
        "    moldata.append(mol)\n",
        "\n",
        "  baseData = np.arange(1,1)\n",
        "  i = 0\n",
        "  #define the properties\n",
        "  for mol in moldata:\n",
        "    MW = Descriptors.MolWt(mol)\n",
        "    LogP = Descriptors.MolLogP(mol)\n",
        "    HBD = Lipinski.NumHDonors(mol)\n",
        "    HBA = Lipinski.NumHAcceptors(mol)\n",
        "\n",
        "    row = np.array([MW, LogP, HBD, HBA])\n",
        "\n",
        "    if (i==0):\n",
        "      baseData = row\n",
        "    else:\n",
        "      baseData = np.vstack([baseData, row])\n",
        "    i=i+1\n",
        "\n",
        "  column_titles = [\"MW\", \"LogP\", \"HBD\", \"HBA\"]\n",
        "  desciptors = pd.DataFrame(data=baseData, columns=column_titles)\n",
        "\n",
        "  return desciptors"
      ],
      "execution_count": 34,
      "outputs": []
    },
    {
      "cell_type": "code",
      "metadata": {
        "id": "TO2CymBLr9gk",
        "colab_type": "code",
        "colab": {}
      },
      "source": [
        "df_lipinski = lipinski(df.canonical_smiles)"
      ],
      "execution_count": 35,
      "outputs": []
    },
    {
      "cell_type": "code",
      "metadata": {
        "id": "rOs8JvmSsJVC",
        "colab_type": "code",
        "colab": {
          "base_uri": "https://localhost:8080/",
          "height": 363
        },
        "outputId": "fe1f783b-168f-46bb-fbae-a479f5f45181"
      },
      "source": [
        "df_full = pd.concat([df,df_lipinski], axis=1)\n",
        "df_full.head(10)"
      ],
      "execution_count": 36,
      "outputs": [
        {
          "output_type": "execute_result",
          "data": {
            "text/html": [
              "<div>\n",
              "<style scoped>\n",
              "    .dataframe tbody tr th:only-of-type {\n",
              "        vertical-align: middle;\n",
              "    }\n",
              "\n",
              "    .dataframe tbody tr th {\n",
              "        vertical-align: top;\n",
              "    }\n",
              "\n",
              "    .dataframe thead th {\n",
              "        text-align: right;\n",
              "    }\n",
              "</style>\n",
              "<table border=\"1\" class=\"dataframe\">\n",
              "  <thead>\n",
              "    <tr style=\"text-align: right;\">\n",
              "      <th></th>\n",
              "      <th>molecule_chembl_id</th>\n",
              "      <th>canonical_smiles</th>\n",
              "      <th>value_IC50</th>\n",
              "      <th>value_pIC50</th>\n",
              "      <th>units</th>\n",
              "      <th>MW</th>\n",
              "      <th>LogP</th>\n",
              "      <th>HBD</th>\n",
              "      <th>HBA</th>\n",
              "    </tr>\n",
              "  </thead>\n",
              "  <tbody>\n",
              "    <tr>\n",
              "      <th>0</th>\n",
              "      <td>CHEMBL68920</td>\n",
              "      <td>Cc1cc(C)c(/C=C2\\C(=O)Nc3ncnc(Nc4ccc(F)c(Cl)c4)...</td>\n",
              "      <td>41</td>\n",
              "      <td>7.387216</td>\n",
              "      <td>nM</td>\n",
              "      <td>383.814</td>\n",
              "      <td>4.45034</td>\n",
              "      <td>3.0</td>\n",
              "      <td>4.0</td>\n",
              "    </tr>\n",
              "    <tr>\n",
              "      <th>1</th>\n",
              "      <td>CHEMBL69960</td>\n",
              "      <td>Cc1cc(C(=O)N2CCOCC2)[nH]c1/C=C1\\C(=O)Nc2ncnc(N...</td>\n",
              "      <td>170</td>\n",
              "      <td>6.769551</td>\n",
              "      <td>nM</td>\n",
              "      <td>482.903</td>\n",
              "      <td>3.61432</td>\n",
              "      <td>3.0</td>\n",
              "      <td>6.0</td>\n",
              "    </tr>\n",
              "    <tr>\n",
              "      <th>2</th>\n",
              "      <td>CHEMBL137635</td>\n",
              "      <td>CN(c1ccccc1)c1ncnc2ccc(N/N=N/Cc3ccccn3)cc12</td>\n",
              "      <td>9300</td>\n",
              "      <td>5.031517</td>\n",
              "      <td>nM</td>\n",
              "      <td>369.432</td>\n",
              "      <td>4.77200</td>\n",
              "      <td>1.0</td>\n",
              "      <td>6.0</td>\n",
              "    </tr>\n",
              "    <tr>\n",
              "      <th>3</th>\n",
              "      <td>CHEMBL306988</td>\n",
              "      <td>CC(=C(C#N)C#N)c1ccc(NC(=O)CCC(=O)O)cc1</td>\n",
              "      <td>500000</td>\n",
              "      <td>3.301030</td>\n",
              "      <td>nM</td>\n",
              "      <td>283.287</td>\n",
              "      <td>2.31056</td>\n",
              "      <td>2.0</td>\n",
              "      <td>4.0</td>\n",
              "    </tr>\n",
              "    <tr>\n",
              "      <th>4</th>\n",
              "      <td>CHEMBL66879</td>\n",
              "      <td>O=C(O)/C=C/c1ccc(O)cc1</td>\n",
              "      <td>3e+06</td>\n",
              "      <td>2.522879</td>\n",
              "      <td>nM</td>\n",
              "      <td>164.160</td>\n",
              "      <td>1.49000</td>\n",
              "      <td>2.0</td>\n",
              "      <td>2.0</td>\n",
              "    </tr>\n",
              "    <tr>\n",
              "      <th>5</th>\n",
              "      <td>CHEMBL77085</td>\n",
              "      <td>N#CC(C#N)=Cc1cc(O)ccc1[N+](=O)[O-]</td>\n",
              "      <td>96000</td>\n",
              "      <td>4.017729</td>\n",
              "      <td>nM</td>\n",
              "      <td>215.168</td>\n",
              "      <td>1.73096</td>\n",
              "      <td>1.0</td>\n",
              "      <td>5.0</td>\n",
              "    </tr>\n",
              "    <tr>\n",
              "      <th>6</th>\n",
              "      <td>CHEMBL443268</td>\n",
              "      <td>Cc1cc(C(=O)NCCN2CCOCC2)[nH]c1/C=C1\\C(=O)N(C)c2...</td>\n",
              "      <td>5310</td>\n",
              "      <td>5.274905</td>\n",
              "      <td>nM</td>\n",
              "      <td>539.999</td>\n",
              "      <td>3.22822</td>\n",
              "      <td>3.0</td>\n",
              "      <td>7.0</td>\n",
              "    </tr>\n",
              "    <tr>\n",
              "      <th>7</th>\n",
              "      <td>CHEMBL76979</td>\n",
              "      <td>COc1cc(/C=C(\\C#N)C(=O)O)cc(OC)c1O</td>\n",
              "      <td>264000</td>\n",
              "      <td>3.578396</td>\n",
              "      <td>nM</td>\n",
              "      <td>249.222</td>\n",
              "      <td>1.40098</td>\n",
              "      <td>2.0</td>\n",
              "      <td>5.0</td>\n",
              "    </tr>\n",
              "    <tr>\n",
              "      <th>8</th>\n",
              "      <td>CHEMBL76589</td>\n",
              "      <td>N#CC(C#N)=C(N)/C(C#N)=C/c1ccc(O)cc1</td>\n",
              "      <td>125</td>\n",
              "      <td>6.903090</td>\n",
              "      <td>nM</td>\n",
              "      <td>236.234</td>\n",
              "      <td>1.55914</td>\n",
              "      <td>2.0</td>\n",
              "      <td>5.0</td>\n",
              "    </tr>\n",
              "    <tr>\n",
              "      <th>9</th>\n",
              "      <td>CHEMBL76904</td>\n",
              "      <td>N#CC(C#N)=Cc1ccc(O)c(O)c1</td>\n",
              "      <td>35000</td>\n",
              "      <td>4.455932</td>\n",
              "      <td>nM</td>\n",
              "      <td>186.170</td>\n",
              "      <td>1.52836</td>\n",
              "      <td>2.0</td>\n",
              "      <td>4.0</td>\n",
              "    </tr>\n",
              "  </tbody>\n",
              "</table>\n",
              "</div>"
            ],
            "text/plain": [
              "  molecule_chembl_id  ...  HBA\n",
              "0        CHEMBL68920  ...  4.0\n",
              "1        CHEMBL69960  ...  6.0\n",
              "2       CHEMBL137635  ...  6.0\n",
              "3       CHEMBL306988  ...  4.0\n",
              "4        CHEMBL66879  ...  2.0\n",
              "5        CHEMBL77085  ...  5.0\n",
              "6       CHEMBL443268  ...  7.0\n",
              "7        CHEMBL76979  ...  5.0\n",
              "8        CHEMBL76589  ...  5.0\n",
              "9        CHEMBL76904  ...  4.0\n",
              "\n",
              "[10 rows x 9 columns]"
            ]
          },
          "metadata": {
            "tags": []
          },
          "execution_count": 36
        }
      ]
    },
    {
      "cell_type": "code",
      "metadata": {
        "id": "Plvdk0iVsO1I",
        "colab_type": "code",
        "colab": {}
      },
      "source": [
        ""
      ],
      "execution_count": null,
      "outputs": []
    }
  ]
}