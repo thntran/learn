{
  "nbformat": 4,
  "nbformat_minor": 0,
  "metadata": {
    "colab": {
      "name": "compound-data-acquisition.ipynb",
      "provenance": [],
      "authorship_tag": "ABX9TyNvG8CFOqEP1HsIaSgvpBzH",
      "include_colab_link": true
    },
    "kernelspec": {
      "name": "python3",
      "display_name": "Python 3"
    }
  },
  "cells": [
    {
      "cell_type": "markdown",
      "metadata": {
        "id": "view-in-github",
        "colab_type": "text"
      },
      "source": [
        "<a href=\"https://colab.research.google.com/github/yoshimelaine/learn/blob/master/compound_data_acquisition.ipynb\" target=\"_parent\"><img src=\"https://colab.research.google.com/assets/colab-badge.svg\" alt=\"Open In Colab\"/></a>"
      ]
    },
    {
      "cell_type": "markdown",
      "metadata": {
        "id": "6_f2SPde1Dji",
        "colab_type": "text"
      },
      "source": [
        "**Installing libraries**"
      ]
    },
    {
      "cell_type": "markdown",
      "metadata": {
        "id": "q1XC9ZKQVujJ",
        "colab_type": "text"
      },
      "source": [
        "Install the ChEMBL web service package so that we can retrieve bioactivity data from the ChEMBL Database."
      ]
    },
    {
      "cell_type": "code",
      "metadata": {
        "id": "6A92BuKjzizf",
        "colab_type": "code",
        "colab": {
          "base_uri": "https://localhost:8080/",
          "height": 184
        },
        "outputId": "c2cb519c-080c-46f7-de44-a895e20b135e"
      },
      "source": [
        "! pip install chembl_webresource_client"
      ],
      "execution_count": 1,
      "outputs": [
        {
          "output_type": "stream",
          "text": [
            "Requirement already satisfied: chembl_webresource_client in /usr/local/lib/python3.7/site-packages (0.10.2)\n",
            "Requirement already satisfied: easydict in /usr/local/lib/python3.7/site-packages (from chembl_webresource_client) (1.9)\n",
            "Requirement already satisfied: requests-cache>=0.4.7 in /usr/local/lib/python3.7/site-packages (from chembl_webresource_client) (0.5.2)\n",
            "Requirement already satisfied: urllib3 in /usr/local/lib/python3.7/site-packages (from chembl_webresource_client) (1.25.8)\n",
            "Requirement already satisfied: requests>=2.18.4 in /usr/local/lib/python3.7/site-packages (from chembl_webresource_client) (2.22.0)\n",
            "Requirement already satisfied: idna<2.9,>=2.5 in /usr/local/lib/python3.7/site-packages (from requests>=2.18.4->chembl_webresource_client) (2.8)\n",
            "Requirement already satisfied: certifi>=2017.4.17 in /usr/local/lib/python3.7/site-packages (from requests>=2.18.4->chembl_webresource_client) (2019.11.28)\n",
            "Requirement already satisfied: chardet<3.1.0,>=3.0.2 in /usr/local/lib/python3.7/site-packages (from requests>=2.18.4->chembl_webresource_client) (3.0.4)\n"
          ],
          "name": "stdout"
        }
      ]
    },
    {
      "cell_type": "markdown",
      "metadata": {
        "id": "a1Wy0zrdV4xn",
        "colab_type": "text"
      },
      "source": [
        "Install anaconda and RDkit in order to work on molecular data"
      ]
    },
    {
      "cell_type": "code",
      "metadata": {
        "id": "YFmiZtKF02M3",
        "colab_type": "code",
        "colab": {
          "base_uri": "https://localhost:8080/",
          "height": 880
        },
        "outputId": "ab00546b-0afa-46e3-9716-18c97d8c676d"
      },
      "source": [
        "! wget https://repo.anaconda.com/miniconda/Miniconda3-py37_4.8.2-Linux-x86_64.sh\n",
        "! chmod +x Miniconda3-py37_4.8.2-Linux-x86_64.sh\n",
        "! bash ./Miniconda3-py37_4.8.2-Linux-x86_64.sh -b -f -p /usr/local\n",
        "! conda install -c rdkit rdkit -y\n",
        "import sys\n",
        "sys.path.append('/usr/local/lib/python3.7/site-packages/') "
      ],
      "execution_count": 2,
      "outputs": [
        {
          "output_type": "stream",
          "text": [
            "--2020-08-12 08:13:11--  https://repo.anaconda.com/miniconda/Miniconda3-py37_4.8.2-Linux-x86_64.sh\n",
            "Resolving repo.anaconda.com (repo.anaconda.com)... 104.16.130.3, 104.16.131.3, 2606:4700::6810:8203, ...\n",
            "Connecting to repo.anaconda.com (repo.anaconda.com)|104.16.130.3|:443... connected.\n",
            "HTTP request sent, awaiting response... 200 OK\n",
            "Length: 85055499 (81M) [application/x-sh]\n",
            "Saving to: ‘Miniconda3-py37_4.8.2-Linux-x86_64.sh.4’\n",
            "\n",
            "\r          Miniconda   0%[                    ]       0  --.-KB/s               \r         Miniconda3  44%[=======>            ]  36.30M   181MB/s               \rMiniconda3-py37_4.8 100%[===================>]  81.12M   214MB/s    in 0.4s    \n",
            "\n",
            "2020-08-12 08:13:12 (214 MB/s) - ‘Miniconda3-py37_4.8.2-Linux-x86_64.sh.4’ saved [85055499/85055499]\n",
            "\n",
            "PREFIX=/usr/local\n",
            "Unpacking payload ...\n",
            "Collecting package metadata (current_repodata.json): - \b\b\\ \b\bdone\n",
            "Solving environment: / \b\b- \b\b\\ \b\b| \b\b/ \b\b- \b\b\\ \b\bdone\n",
            "\n",
            "# All requested packages already installed.\n",
            "\n",
            "installation finished.\n",
            "WARNING:\n",
            "    You currently have a PYTHONPATH environment variable set. This may cause\n",
            "    unexpected behavior when running the Python interpreter in Miniconda3.\n",
            "    For best results, please verify that your PYTHONPATH only points to\n",
            "    directories of packages that are compatible with the Python interpreter\n",
            "    in Miniconda3: /usr/local\n",
            "Collecting package metadata (current_repodata.json): - \b\b\\ \b\b| \b\b/ \b\b- \b\b\\ \b\b| \b\b/ \b\b- \b\b\\ \b\b| \b\b/ \b\b- \b\b\\ \b\b| \b\b/ \b\bdone\n",
            "Solving environment: \\ \b\b| \b\b/ \b\b- \b\b\\ \b\b| \b\b/ \b\b- \b\b\\ \b\b| \b\b/ \b\b- \b\bdone\n",
            "\n",
            "## Package Plan ##\n",
            "\n",
            "  environment location: /usr/local\n",
            "\n",
            "  added / updated specs:\n",
            "    - rdkit\n",
            "\n",
            "\n",
            "The following packages will be UPDATED:\n",
            "\n",
            "  ca-certificates                                2020.1.1-0 --> 2020.6.24-0\n",
            "  certifi                                 2019.11.28-py37_0 --> 2020.6.20-py37_0\n",
            "  conda                                        4.8.2-py37_0 --> 4.8.3-py37_0\n",
            "  openssl                                 1.1.1d-h7b6447c_4 --> 1.1.1g-h7b6447c_0\n",
            "\n",
            "\n",
            "Preparing transaction: | \b\bdone\n",
            "Verifying transaction: - \b\b\\ \b\b| \b\bdone\n",
            "Executing transaction: - \b\b\\ \b\bdone\n"
          ],
          "name": "stdout"
        }
      ]
    },
    {
      "cell_type": "markdown",
      "metadata": {
        "id": "aiQN4M0CWzkX",
        "colab_type": "text"
      },
      "source": [
        "**Importing libraries**"
      ]
    },
    {
      "cell_type": "code",
      "metadata": {
        "id": "aGOy4Ddk1sTt",
        "colab_type": "code",
        "colab": {}
      },
      "source": [
        "from chembl_webresource_client.new_client import new_client\n",
        "import pandas as pd\n",
        "import math\n",
        "from rdkit.Chem import PandasTools"
      ],
      "execution_count": 3,
      "outputs": []
    },
    {
      "cell_type": "markdown",
      "metadata": {
        "id": "UivjkRWk2CBa",
        "colab_type": "text"
      },
      "source": [
        "**Search for target protein**"
      ]
    },
    {
      "cell_type": "code",
      "metadata": {
        "id": "Vz3ADnwO6rxx",
        "colab_type": "code",
        "colab": {}
      },
      "source": [
        "target = new_client.target\n",
        "molecule = new_client.molecule\n",
        "bioactivities = new_client.activity"
      ],
      "execution_count": 4,
      "outputs": []
    },
    {
      "cell_type": "code",
      "metadata": {
        "id": "pb8-MGqHyKcv",
        "colab_type": "code",
        "colab": {
          "base_uri": "https://localhost:8080/",
          "height": 206
        },
        "outputId": "6dd6ac23-cfef-4ec5-cdd1-07d8a27edc68"
      },
      "source": [
        "uniprot_id = 'P00533'\n",
        "# Get target information from ChEMBL but restrict to specified values only\n",
        "target_query = target.get(target_components__accession=uniprot_id) \\\n",
        "                     .only('target_chembl_id', 'organism', 'pref_name', 'target_type')\n",
        "#print(type(target_query))\n",
        "targets = pd.DataFrame.from_records(target_query)\n",
        "targets"
      ],
      "execution_count": 5,
      "outputs": [
        {
          "output_type": "execute_result",
          "data": {
            "text/html": [
              "<div>\n",
              "<style scoped>\n",
              "    .dataframe tbody tr th:only-of-type {\n",
              "        vertical-align: middle;\n",
              "    }\n",
              "\n",
              "    .dataframe tbody tr th {\n",
              "        vertical-align: top;\n",
              "    }\n",
              "\n",
              "    .dataframe thead th {\n",
              "        text-align: right;\n",
              "    }\n",
              "</style>\n",
              "<table border=\"1\" class=\"dataframe\">\n",
              "  <thead>\n",
              "    <tr style=\"text-align: right;\">\n",
              "      <th></th>\n",
              "      <th>organism</th>\n",
              "      <th>pref_name</th>\n",
              "      <th>target_chembl_id</th>\n",
              "      <th>target_type</th>\n",
              "    </tr>\n",
              "  </thead>\n",
              "  <tbody>\n",
              "    <tr>\n",
              "      <th>0</th>\n",
              "      <td>Homo sapiens</td>\n",
              "      <td>Epidermal growth factor receptor erbB1</td>\n",
              "      <td>CHEMBL203</td>\n",
              "      <td>SINGLE PROTEIN</td>\n",
              "    </tr>\n",
              "    <tr>\n",
              "      <th>1</th>\n",
              "      <td>Homo sapiens</td>\n",
              "      <td>Epidermal growth factor receptor erbB1</td>\n",
              "      <td>CHEMBL203</td>\n",
              "      <td>SINGLE PROTEIN</td>\n",
              "    </tr>\n",
              "    <tr>\n",
              "      <th>2</th>\n",
              "      <td>Homo sapiens</td>\n",
              "      <td>Epidermal growth factor receptor and ErbB2 (HE...</td>\n",
              "      <td>CHEMBL2111431</td>\n",
              "      <td>PROTEIN FAMILY</td>\n",
              "    </tr>\n",
              "    <tr>\n",
              "      <th>3</th>\n",
              "      <td>Homo sapiens</td>\n",
              "      <td>Epidermal growth factor receptor</td>\n",
              "      <td>CHEMBL2363049</td>\n",
              "      <td>PROTEIN FAMILY</td>\n",
              "    </tr>\n",
              "    <tr>\n",
              "      <th>4</th>\n",
              "      <td>Homo sapiens</td>\n",
              "      <td>MER intracellular domain/EGFR extracellular do...</td>\n",
              "      <td>CHEMBL3137284</td>\n",
              "      <td>CHIMERIC PROTEIN</td>\n",
              "    </tr>\n",
              "  </tbody>\n",
              "</table>\n",
              "</div>"
            ],
            "text/plain": [
              "       organism  ...       target_type\n",
              "0  Homo sapiens  ...    SINGLE PROTEIN\n",
              "1  Homo sapiens  ...    SINGLE PROTEIN\n",
              "2  Homo sapiens  ...    PROTEIN FAMILY\n",
              "3  Homo sapiens  ...    PROTEIN FAMILY\n",
              "4  Homo sapiens  ...  CHIMERIC PROTEIN\n",
              "\n",
              "[5 rows x 4 columns]"
            ]
          },
          "metadata": {
            "tags": []
          },
          "execution_count": 5
        }
      ]
    },
    {
      "cell_type": "markdown",
      "metadata": {
        "id": "GKoK5Bv-yX7k",
        "colab_type": "text"
      },
      "source": [
        "\n",
        "Select CHEMBL203 as the target of interest.\n",
        "\n",
        "CHEMBL203: It is a single protein and represents the human Epidermal growth factor receptor (EGFR, also named erbB1)\n"
      ]
    },
    {
      "cell_type": "code",
      "metadata": {
        "id": "fsXJjbRcyZV7",
        "colab_type": "code",
        "colab": {}
      },
      "source": [
        "selected_target = targets.target_chembl_id[0]"
      ],
      "execution_count": 6,
      "outputs": []
    },
    {
      "cell_type": "markdown",
      "metadata": {
        "id": "mYIbQzrY6fyf",
        "colab_type": "text"
      },
      "source": [
        "We want to download all molecules that have been tested against our target of interest,, only consider:\n",
        "- human proteins\n",
        "- bioactivity type IC50\n",
        "- exact measurements (relation '=')\n",
        "- binding data (assay type 'B')"
      ]
    },
    {
      "cell_type": "code",
      "metadata": {
        "id": "mkcvEdYO1xWg",
        "colab_type": "code",
        "colab": {
          "base_uri": "https://localhost:8080/",
          "height": 730
        },
        "outputId": "a9a8ddc7-275c-4053-86fc-8001cae693a2"
      },
      "source": [
        "bioact = bioactivities.filter(target_chembl_id = selected_target).filter(type = 'IC50').filter(relation = '=').filter(assay_type = 'B') \\\n",
        "                      .only('activity_id','assay_chembl_id','canonical_smiles', 'assay_description', 'assay_type', \\\n",
        "                            'molecule_chembl_id', 'type', 'units', 'relation', 'value', \\\n",
        "                            'target_chembl_id', 'target_organism')\n",
        "len(bioact), len(bioact[0]), type(bioact), type(bioact[0])\n",
        "bioact_df = pd.DataFrame.from_records(bioact)\n",
        "bioact_df.head(10)"
      ],
      "execution_count": 7,
      "outputs": [
        {
          "output_type": "execute_result",
          "data": {
            "text/html": [
              "<div>\n",
              "<style scoped>\n",
              "    .dataframe tbody tr th:only-of-type {\n",
              "        vertical-align: middle;\n",
              "    }\n",
              "\n",
              "    .dataframe tbody tr th {\n",
              "        vertical-align: top;\n",
              "    }\n",
              "\n",
              "    .dataframe thead th {\n",
              "        text-align: right;\n",
              "    }\n",
              "</style>\n",
              "<table border=\"1\" class=\"dataframe\">\n",
              "  <thead>\n",
              "    <tr style=\"text-align: right;\">\n",
              "      <th></th>\n",
              "      <th>activity_id</th>\n",
              "      <th>assay_chembl_id</th>\n",
              "      <th>assay_description</th>\n",
              "      <th>assay_type</th>\n",
              "      <th>canonical_smiles</th>\n",
              "      <th>molecule_chembl_id</th>\n",
              "      <th>relation</th>\n",
              "      <th>target_chembl_id</th>\n",
              "      <th>target_organism</th>\n",
              "      <th>type</th>\n",
              "      <th>units</th>\n",
              "      <th>value</th>\n",
              "    </tr>\n",
              "  </thead>\n",
              "  <tbody>\n",
              "    <tr>\n",
              "      <th>0</th>\n",
              "      <td>32260</td>\n",
              "      <td>CHEMBL674637</td>\n",
              "      <td>Inhibitory activity towards tyrosine phosphory...</td>\n",
              "      <td>B</td>\n",
              "      <td>Cc1cc(C)c(/C=C2\\C(=O)Nc3ncnc(Nc4ccc(F)c(Cl)c4)...</td>\n",
              "      <td>CHEMBL68920</td>\n",
              "      <td>=</td>\n",
              "      <td>CHEMBL203</td>\n",
              "      <td>Homo sapiens</td>\n",
              "      <td>IC50</td>\n",
              "      <td>uM</td>\n",
              "      <td>0.041</td>\n",
              "    </tr>\n",
              "    <tr>\n",
              "      <th>1</th>\n",
              "      <td>32260</td>\n",
              "      <td>CHEMBL674637</td>\n",
              "      <td>Inhibitory activity towards tyrosine phosphory...</td>\n",
              "      <td>B</td>\n",
              "      <td>Cc1cc(C)c(/C=C2\\C(=O)Nc3ncnc(Nc4ccc(F)c(Cl)c4)...</td>\n",
              "      <td>CHEMBL68920</td>\n",
              "      <td>=</td>\n",
              "      <td>CHEMBL203</td>\n",
              "      <td>Homo sapiens</td>\n",
              "      <td>IC50</td>\n",
              "      <td>uM</td>\n",
              "      <td>0.041</td>\n",
              "    </tr>\n",
              "    <tr>\n",
              "      <th>2</th>\n",
              "      <td>32267</td>\n",
              "      <td>CHEMBL674637</td>\n",
              "      <td>Inhibitory activity towards tyrosine phosphory...</td>\n",
              "      <td>B</td>\n",
              "      <td>Cc1cc(C(=O)N2CCOCC2)[nH]c1/C=C1\\C(=O)Nc2ncnc(N...</td>\n",
              "      <td>CHEMBL69960</td>\n",
              "      <td>=</td>\n",
              "      <td>CHEMBL203</td>\n",
              "      <td>Homo sapiens</td>\n",
              "      <td>IC50</td>\n",
              "      <td>uM</td>\n",
              "      <td>0.17</td>\n",
              "    </tr>\n",
              "    <tr>\n",
              "      <th>3</th>\n",
              "      <td>32680</td>\n",
              "      <td>CHEMBL677833</td>\n",
              "      <td>In vitro inhibition of Epidermal growth factor...</td>\n",
              "      <td>B</td>\n",
              "      <td>CN(c1ccccc1)c1ncnc2ccc(N/N=N/Cc3ccccn3)cc12</td>\n",
              "      <td>CHEMBL137635</td>\n",
              "      <td>=</td>\n",
              "      <td>CHEMBL203</td>\n",
              "      <td>Homo sapiens</td>\n",
              "      <td>IC50</td>\n",
              "      <td>uM</td>\n",
              "      <td>9.3</td>\n",
              "    </tr>\n",
              "    <tr>\n",
              "      <th>4</th>\n",
              "      <td>32770</td>\n",
              "      <td>CHEMBL674643</td>\n",
              "      <td>Inhibitory concentration of EGF dependent auto...</td>\n",
              "      <td>B</td>\n",
              "      <td>CC(=C(C#N)C#N)c1ccc(NC(=O)CCC(=O)O)cc1</td>\n",
              "      <td>CHEMBL306988</td>\n",
              "      <td>=</td>\n",
              "      <td>CHEMBL203</td>\n",
              "      <td>Homo sapiens</td>\n",
              "      <td>IC50</td>\n",
              "      <td>uM</td>\n",
              "      <td>500.0</td>\n",
              "    </tr>\n",
              "    <tr>\n",
              "      <th>5</th>\n",
              "      <td>32772</td>\n",
              "      <td>CHEMBL674643</td>\n",
              "      <td>Inhibitory concentration of EGF dependent auto...</td>\n",
              "      <td>B</td>\n",
              "      <td>O=C(O)/C=C/c1ccc(O)cc1</td>\n",
              "      <td>CHEMBL66879</td>\n",
              "      <td>=</td>\n",
              "      <td>CHEMBL203</td>\n",
              "      <td>Homo sapiens</td>\n",
              "      <td>IC50</td>\n",
              "      <td>uM</td>\n",
              "      <td>3000.0</td>\n",
              "    </tr>\n",
              "    <tr>\n",
              "      <th>6</th>\n",
              "      <td>32780</td>\n",
              "      <td>CHEMBL674643</td>\n",
              "      <td>Inhibitory concentration of EGF dependent auto...</td>\n",
              "      <td>B</td>\n",
              "      <td>N#CC(C#N)=Cc1cc(O)ccc1[N+](=O)[O-]</td>\n",
              "      <td>CHEMBL77085</td>\n",
              "      <td>=</td>\n",
              "      <td>CHEMBL203</td>\n",
              "      <td>Homo sapiens</td>\n",
              "      <td>IC50</td>\n",
              "      <td>uM</td>\n",
              "      <td>96.0</td>\n",
              "    </tr>\n",
              "    <tr>\n",
              "      <th>7</th>\n",
              "      <td>33406</td>\n",
              "      <td>CHEMBL674637</td>\n",
              "      <td>Inhibitory activity towards tyrosine phosphory...</td>\n",
              "      <td>B</td>\n",
              "      <td>Cc1cc(C(=O)NCCN2CCOCC2)[nH]c1/C=C1\\C(=O)N(C)c2...</td>\n",
              "      <td>CHEMBL443268</td>\n",
              "      <td>=</td>\n",
              "      <td>CHEMBL203</td>\n",
              "      <td>Homo sapiens</td>\n",
              "      <td>IC50</td>\n",
              "      <td>uM</td>\n",
              "      <td>5.31</td>\n",
              "    </tr>\n",
              "    <tr>\n",
              "      <th>8</th>\n",
              "      <td>34039</td>\n",
              "      <td>CHEMBL674643</td>\n",
              "      <td>Inhibitory concentration of EGF dependent auto...</td>\n",
              "      <td>B</td>\n",
              "      <td>COc1cc(/C=C(\\C#N)C(=O)O)cc(OC)c1O</td>\n",
              "      <td>CHEMBL76979</td>\n",
              "      <td>=</td>\n",
              "      <td>CHEMBL203</td>\n",
              "      <td>Homo sapiens</td>\n",
              "      <td>IC50</td>\n",
              "      <td>uM</td>\n",
              "      <td>264.0</td>\n",
              "    </tr>\n",
              "    <tr>\n",
              "      <th>9</th>\n",
              "      <td>34041</td>\n",
              "      <td>CHEMBL674643</td>\n",
              "      <td>Inhibitory concentration of EGF dependent auto...</td>\n",
              "      <td>B</td>\n",
              "      <td>N#CC(C#N)=C(N)/C(C#N)=C/c1ccc(O)cc1</td>\n",
              "      <td>CHEMBL76589</td>\n",
              "      <td>=</td>\n",
              "      <td>CHEMBL203</td>\n",
              "      <td>Homo sapiens</td>\n",
              "      <td>IC50</td>\n",
              "      <td>uM</td>\n",
              "      <td>0.125</td>\n",
              "    </tr>\n",
              "  </tbody>\n",
              "</table>\n",
              "</div>"
            ],
            "text/plain": [
              "   activity_id assay_chembl_id  ... units   value\n",
              "0        32260    CHEMBL674637  ...    uM   0.041\n",
              "1        32260    CHEMBL674637  ...    uM   0.041\n",
              "2        32267    CHEMBL674637  ...    uM    0.17\n",
              "3        32680    CHEMBL677833  ...    uM     9.3\n",
              "4        32770    CHEMBL674643  ...    uM   500.0\n",
              "5        32772    CHEMBL674643  ...    uM  3000.0\n",
              "6        32780    CHEMBL674643  ...    uM    96.0\n",
              "7        33406    CHEMBL674637  ...    uM    5.31\n",
              "8        34039    CHEMBL674643  ...    uM   264.0\n",
              "9        34041    CHEMBL674643  ...    uM   0.125\n",
              "\n",
              "[10 rows x 12 columns]"
            ]
          },
          "metadata": {
            "tags": []
          },
          "execution_count": 7
        }
      ]
    },
    {
      "cell_type": "code",
      "metadata": {
        "id": "4KRnSIxw1clQ",
        "colab_type": "code",
        "colab": {
          "base_uri": "https://localhost:8080/",
          "height": 35
        },
        "outputId": "3de40ed2-16a0-447a-a6e1-698d59149441"
      },
      "source": [
        "bioact_df.shape"
      ],
      "execution_count": 8,
      "outputs": [
        {
          "output_type": "execute_result",
          "data": {
            "text/plain": [
              "(7178, 12)"
            ]
          },
          "metadata": {
            "tags": []
          },
          "execution_count": 8
        }
      ]
    },
    {
      "cell_type": "code",
      "metadata": {
        "id": "TuUYQJl51gq7",
        "colab_type": "code",
        "colab": {}
      },
      "source": [
        "bioact_df = bioact_df.dropna(axis=0, how='any') #delete entries with missing values"
      ],
      "execution_count": 9,
      "outputs": []
    },
    {
      "cell_type": "code",
      "metadata": {
        "id": "PTljWLIh1oOB",
        "colab_type": "code",
        "colab": {}
      },
      "source": [
        "bioact_df = bioact_df.drop_duplicates('molecule_chembl_id', keep='first') #Delete duplicates: Sometimes the same molecule (molecule_chembl_id) has been tested more than once"
      ],
      "execution_count": 10,
      "outputs": []
    },
    {
      "cell_type": "code",
      "metadata": {
        "id": "odlmF9fO2Oh-",
        "colab_type": "code",
        "colab": {
          "base_uri": "https://localhost:8080/",
          "height": 35
        },
        "outputId": "770f887a-93ce-4f0a-a8b1-5e6f907bc377"
      },
      "source": [
        "bioact_df.shape"
      ],
      "execution_count": 11,
      "outputs": [
        {
          "output_type": "execute_result",
          "data": {
            "text/plain": [
              "(5498, 12)"
            ]
          },
          "metadata": {
            "tags": []
          },
          "execution_count": 11
        }
      ]
    },
    {
      "cell_type": "code",
      "metadata": {
        "id": "SQda13MkvedL",
        "colab_type": "code",
        "colab": {
          "base_uri": "https://localhost:8080/",
          "height": 109
        },
        "outputId": "e6f3ca6d-5c17-4d92-a1b3-9255fc18d020"
      },
      "source": [
        "print(bioact_df.units.unique())\n",
        "bioact_df = bioact_df.drop(bioact_df.index[~bioact_df.units.str.contains('M')])\n",
        "print(bioact_df.units.unique())\n",
        "bioact_df.shape"
      ],
      "execution_count": 12,
      "outputs": [
        {
          "output_type": "stream",
          "text": [
            "['uM' 'nM' 'M' \"10'1 ug/ml\" 'ug ml-1' \"10'-1microM\" \"10'1 uM\"\n",
            " \"10'-1 ug/ml\" \"10'-2 ug/ml\" \"10'2 uM\" '/uM' \"10'-6g/ml\" 'mM' 'umol/L'\n",
            " 'nmol/L']\n",
            "['uM' 'nM' 'M' \"10'-1microM\" \"10'1 uM\" \"10'2 uM\" '/uM' 'mM']\n"
          ],
          "name": "stdout"
        },
        {
          "output_type": "execute_result",
          "data": {
            "text/plain": [
              "(5428, 12)"
            ]
          },
          "metadata": {
            "tags": []
          },
          "execution_count": 12
        }
      ]
    },
    {
      "cell_type": "code",
      "metadata": {
        "id": "kuK9MzLHvj81",
        "colab_type": "code",
        "colab": {
          "base_uri": "https://localhost:8080/",
          "height": 400
        },
        "outputId": "af5a1877-8104-4dcb-ebb6-d248ffa7a2d8"
      },
      "source": [
        "bioact_df = bioact_df.reset_index(drop=True) \n",
        "bioact_df.head()"
      ],
      "execution_count": 13,
      "outputs": [
        {
          "output_type": "execute_result",
          "data": {
            "text/html": [
              "<div>\n",
              "<style scoped>\n",
              "    .dataframe tbody tr th:only-of-type {\n",
              "        vertical-align: middle;\n",
              "    }\n",
              "\n",
              "    .dataframe tbody tr th {\n",
              "        vertical-align: top;\n",
              "    }\n",
              "\n",
              "    .dataframe thead th {\n",
              "        text-align: right;\n",
              "    }\n",
              "</style>\n",
              "<table border=\"1\" class=\"dataframe\">\n",
              "  <thead>\n",
              "    <tr style=\"text-align: right;\">\n",
              "      <th></th>\n",
              "      <th>activity_id</th>\n",
              "      <th>assay_chembl_id</th>\n",
              "      <th>assay_description</th>\n",
              "      <th>assay_type</th>\n",
              "      <th>canonical_smiles</th>\n",
              "      <th>molecule_chembl_id</th>\n",
              "      <th>relation</th>\n",
              "      <th>target_chembl_id</th>\n",
              "      <th>target_organism</th>\n",
              "      <th>type</th>\n",
              "      <th>units</th>\n",
              "      <th>value</th>\n",
              "    </tr>\n",
              "  </thead>\n",
              "  <tbody>\n",
              "    <tr>\n",
              "      <th>0</th>\n",
              "      <td>32260</td>\n",
              "      <td>CHEMBL674637</td>\n",
              "      <td>Inhibitory activity towards tyrosine phosphory...</td>\n",
              "      <td>B</td>\n",
              "      <td>Cc1cc(C)c(/C=C2\\C(=O)Nc3ncnc(Nc4ccc(F)c(Cl)c4)...</td>\n",
              "      <td>CHEMBL68920</td>\n",
              "      <td>=</td>\n",
              "      <td>CHEMBL203</td>\n",
              "      <td>Homo sapiens</td>\n",
              "      <td>IC50</td>\n",
              "      <td>uM</td>\n",
              "      <td>0.041</td>\n",
              "    </tr>\n",
              "    <tr>\n",
              "      <th>1</th>\n",
              "      <td>32267</td>\n",
              "      <td>CHEMBL674637</td>\n",
              "      <td>Inhibitory activity towards tyrosine phosphory...</td>\n",
              "      <td>B</td>\n",
              "      <td>Cc1cc(C(=O)N2CCOCC2)[nH]c1/C=C1\\C(=O)Nc2ncnc(N...</td>\n",
              "      <td>CHEMBL69960</td>\n",
              "      <td>=</td>\n",
              "      <td>CHEMBL203</td>\n",
              "      <td>Homo sapiens</td>\n",
              "      <td>IC50</td>\n",
              "      <td>uM</td>\n",
              "      <td>0.17</td>\n",
              "    </tr>\n",
              "    <tr>\n",
              "      <th>2</th>\n",
              "      <td>32680</td>\n",
              "      <td>CHEMBL677833</td>\n",
              "      <td>In vitro inhibition of Epidermal growth factor...</td>\n",
              "      <td>B</td>\n",
              "      <td>CN(c1ccccc1)c1ncnc2ccc(N/N=N/Cc3ccccn3)cc12</td>\n",
              "      <td>CHEMBL137635</td>\n",
              "      <td>=</td>\n",
              "      <td>CHEMBL203</td>\n",
              "      <td>Homo sapiens</td>\n",
              "      <td>IC50</td>\n",
              "      <td>uM</td>\n",
              "      <td>9.3</td>\n",
              "    </tr>\n",
              "    <tr>\n",
              "      <th>3</th>\n",
              "      <td>32770</td>\n",
              "      <td>CHEMBL674643</td>\n",
              "      <td>Inhibitory concentration of EGF dependent auto...</td>\n",
              "      <td>B</td>\n",
              "      <td>CC(=C(C#N)C#N)c1ccc(NC(=O)CCC(=O)O)cc1</td>\n",
              "      <td>CHEMBL306988</td>\n",
              "      <td>=</td>\n",
              "      <td>CHEMBL203</td>\n",
              "      <td>Homo sapiens</td>\n",
              "      <td>IC50</td>\n",
              "      <td>uM</td>\n",
              "      <td>500.0</td>\n",
              "    </tr>\n",
              "    <tr>\n",
              "      <th>4</th>\n",
              "      <td>32772</td>\n",
              "      <td>CHEMBL674643</td>\n",
              "      <td>Inhibitory concentration of EGF dependent auto...</td>\n",
              "      <td>B</td>\n",
              "      <td>O=C(O)/C=C/c1ccc(O)cc1</td>\n",
              "      <td>CHEMBL66879</td>\n",
              "      <td>=</td>\n",
              "      <td>CHEMBL203</td>\n",
              "      <td>Homo sapiens</td>\n",
              "      <td>IC50</td>\n",
              "      <td>uM</td>\n",
              "      <td>3000.0</td>\n",
              "    </tr>\n",
              "  </tbody>\n",
              "</table>\n",
              "</div>"
            ],
            "text/plain": [
              "   activity_id assay_chembl_id  ... units   value\n",
              "0        32260    CHEMBL674637  ...    uM   0.041\n",
              "1        32267    CHEMBL674637  ...    uM    0.17\n",
              "2        32680    CHEMBL677833  ...    uM     9.3\n",
              "3        32770    CHEMBL674643  ...    uM   500.0\n",
              "4        32772    CHEMBL674643  ...    uM  3000.0\n",
              "\n",
              "[5 rows x 12 columns]"
            ]
          },
          "metadata": {
            "tags": []
          },
          "execution_count": 13
        }
      ]
    },
    {
      "cell_type": "code",
      "metadata": {
        "id": "YkXXVnWN2YEi",
        "colab_type": "code",
        "colab": {}
      },
      "source": [
        "bioact_df.to_csv('bioactivity-raw.csv', index = False)"
      ],
      "execution_count": 12,
      "outputs": []
    },
    {
      "cell_type": "code",
      "metadata": {
        "id": "jBqaADdr3Nvf",
        "colab_type": "code",
        "colab": {
          "base_uri": "https://localhost:8080/",
          "height": 35
        },
        "outputId": "6d9a441e-adfe-4f64-9944-039f0a1d55a5"
      },
      "source": [
        "from google.colab import drive\n",
        "drive.mount('/content/gdrive/', force_remount=True)"
      ],
      "execution_count": 13,
      "outputs": [
        {
          "output_type": "stream",
          "text": [
            "Mounted at /content/gdrive/\n"
          ],
          "name": "stdout"
        }
      ]
    },
    {
      "cell_type": "code",
      "metadata": {
        "id": "zqK4BXAI3d_t",
        "colab_type": "code",
        "colab": {}
      },
      "source": [
        "! cp bioactivity-raw.csv \"/content/gdrive/My Drive/Colab Notebooks/Data\""
      ],
      "execution_count": 14,
      "outputs": []
    },
    {
      "cell_type": "markdown",
      "metadata": {
        "id": "W0F9-PiLn9_r",
        "colab_type": "text"
      },
      "source": [
        "Convert all value units to nM"
      ]
    },
    {
      "cell_type": "code",
      "metadata": {
        "id": "R6PxdUIReg4H",
        "colab_type": "code",
        "colab": {}
      },
      "source": [
        "def convert_to_NM(unit, bioactivity):\n",
        "  value = bioact_df['value']\n",
        "  if unit != \"nM\":\n",
        "        if unit == \"pM\":\n",
        "            value = float(bioactivity)/1000\n",
        "        elif unit == \"10'-11M\":\n",
        "            value = float(bioactivity)/100\n",
        "        elif unit == \"10'-10M\":\n",
        "            value = float(bioactivity)/10\n",
        "        elif unit == \"10'-8M\":\n",
        "            value = float(bioactivity)*10\n",
        "        elif unit == \"10'-1microM\" or unit == \"10'-7M\":\n",
        "            value = float(bioactivity)*100\n",
        "        elif unit == \"uM\" or unit == \"/uM\" or unit == \"10'-6M\":\n",
        "            value = float(bioactivity)*1000\n",
        "        elif unit == \"10'1 uM\":\n",
        "            value = float(bioactivity)*10000\n",
        "        elif unit == \"10'2 uM\":\n",
        "            value = float(bioactivity)*100000\n",
        "        elif unit == \"mM\":\n",
        "            value = float(bioactivity)*1000000\n",
        "        elif unit == \"M\":\n",
        "            value = float(bioactivity)*1000000000\n",
        "        else:\n",
        "            print ('unit not recognized...', unit)\n",
        "        return value\n",
        "  else: return bioactivity"
      ],
      "execution_count": 14,
      "outputs": []
    },
    {
      "cell_type": "code",
      "metadata": {
        "id": "a_8fURj-gs61",
        "colab_type": "code",
        "colab": {
          "base_uri": "https://localhost:8080/",
          "height": 730
        },
        "outputId": "b2f22bd0-cc50-4b66-acbf-cb0caf99a22d"
      },
      "source": [
        "bioactivity_nM = []\n",
        "for i, row in bioact_df.iterrows():\n",
        "    bioact_nM = convert_to_NM(row['units'], row['value'])\n",
        "    bioactivity_nM.append(bioact_nM)\n",
        "bioact_df['value'] = bioactivity_nM\n",
        "bioact_df['units'] = 'nM'\n",
        "bioact_df.head(10)"
      ],
      "execution_count": 15,
      "outputs": [
        {
          "output_type": "execute_result",
          "data": {
            "text/html": [
              "<div>\n",
              "<style scoped>\n",
              "    .dataframe tbody tr th:only-of-type {\n",
              "        vertical-align: middle;\n",
              "    }\n",
              "\n",
              "    .dataframe tbody tr th {\n",
              "        vertical-align: top;\n",
              "    }\n",
              "\n",
              "    .dataframe thead th {\n",
              "        text-align: right;\n",
              "    }\n",
              "</style>\n",
              "<table border=\"1\" class=\"dataframe\">\n",
              "  <thead>\n",
              "    <tr style=\"text-align: right;\">\n",
              "      <th></th>\n",
              "      <th>activity_id</th>\n",
              "      <th>assay_chembl_id</th>\n",
              "      <th>assay_description</th>\n",
              "      <th>assay_type</th>\n",
              "      <th>canonical_smiles</th>\n",
              "      <th>molecule_chembl_id</th>\n",
              "      <th>relation</th>\n",
              "      <th>target_chembl_id</th>\n",
              "      <th>target_organism</th>\n",
              "      <th>type</th>\n",
              "      <th>units</th>\n",
              "      <th>value</th>\n",
              "    </tr>\n",
              "  </thead>\n",
              "  <tbody>\n",
              "    <tr>\n",
              "      <th>0</th>\n",
              "      <td>32260</td>\n",
              "      <td>CHEMBL674637</td>\n",
              "      <td>Inhibitory activity towards tyrosine phosphory...</td>\n",
              "      <td>B</td>\n",
              "      <td>Cc1cc(C)c(/C=C2\\C(=O)Nc3ncnc(Nc4ccc(F)c(Cl)c4)...</td>\n",
              "      <td>CHEMBL68920</td>\n",
              "      <td>=</td>\n",
              "      <td>CHEMBL203</td>\n",
              "      <td>Homo sapiens</td>\n",
              "      <td>IC50</td>\n",
              "      <td>nM</td>\n",
              "      <td>41</td>\n",
              "    </tr>\n",
              "    <tr>\n",
              "      <th>1</th>\n",
              "      <td>32267</td>\n",
              "      <td>CHEMBL674637</td>\n",
              "      <td>Inhibitory activity towards tyrosine phosphory...</td>\n",
              "      <td>B</td>\n",
              "      <td>Cc1cc(C(=O)N2CCOCC2)[nH]c1/C=C1\\C(=O)Nc2ncnc(N...</td>\n",
              "      <td>CHEMBL69960</td>\n",
              "      <td>=</td>\n",
              "      <td>CHEMBL203</td>\n",
              "      <td>Homo sapiens</td>\n",
              "      <td>IC50</td>\n",
              "      <td>nM</td>\n",
              "      <td>170</td>\n",
              "    </tr>\n",
              "    <tr>\n",
              "      <th>2</th>\n",
              "      <td>32680</td>\n",
              "      <td>CHEMBL677833</td>\n",
              "      <td>In vitro inhibition of Epidermal growth factor...</td>\n",
              "      <td>B</td>\n",
              "      <td>CN(c1ccccc1)c1ncnc2ccc(N/N=N/Cc3ccccn3)cc12</td>\n",
              "      <td>CHEMBL137635</td>\n",
              "      <td>=</td>\n",
              "      <td>CHEMBL203</td>\n",
              "      <td>Homo sapiens</td>\n",
              "      <td>IC50</td>\n",
              "      <td>nM</td>\n",
              "      <td>9300</td>\n",
              "    </tr>\n",
              "    <tr>\n",
              "      <th>3</th>\n",
              "      <td>32770</td>\n",
              "      <td>CHEMBL674643</td>\n",
              "      <td>Inhibitory concentration of EGF dependent auto...</td>\n",
              "      <td>B</td>\n",
              "      <td>CC(=C(C#N)C#N)c1ccc(NC(=O)CCC(=O)O)cc1</td>\n",
              "      <td>CHEMBL306988</td>\n",
              "      <td>=</td>\n",
              "      <td>CHEMBL203</td>\n",
              "      <td>Homo sapiens</td>\n",
              "      <td>IC50</td>\n",
              "      <td>nM</td>\n",
              "      <td>500000</td>\n",
              "    </tr>\n",
              "    <tr>\n",
              "      <th>4</th>\n",
              "      <td>32772</td>\n",
              "      <td>CHEMBL674643</td>\n",
              "      <td>Inhibitory concentration of EGF dependent auto...</td>\n",
              "      <td>B</td>\n",
              "      <td>O=C(O)/C=C/c1ccc(O)cc1</td>\n",
              "      <td>CHEMBL66879</td>\n",
              "      <td>=</td>\n",
              "      <td>CHEMBL203</td>\n",
              "      <td>Homo sapiens</td>\n",
              "      <td>IC50</td>\n",
              "      <td>nM</td>\n",
              "      <td>3e+06</td>\n",
              "    </tr>\n",
              "    <tr>\n",
              "      <th>5</th>\n",
              "      <td>32780</td>\n",
              "      <td>CHEMBL674643</td>\n",
              "      <td>Inhibitory concentration of EGF dependent auto...</td>\n",
              "      <td>B</td>\n",
              "      <td>N#CC(C#N)=Cc1cc(O)ccc1[N+](=O)[O-]</td>\n",
              "      <td>CHEMBL77085</td>\n",
              "      <td>=</td>\n",
              "      <td>CHEMBL203</td>\n",
              "      <td>Homo sapiens</td>\n",
              "      <td>IC50</td>\n",
              "      <td>nM</td>\n",
              "      <td>96000</td>\n",
              "    </tr>\n",
              "    <tr>\n",
              "      <th>6</th>\n",
              "      <td>33406</td>\n",
              "      <td>CHEMBL674637</td>\n",
              "      <td>Inhibitory activity towards tyrosine phosphory...</td>\n",
              "      <td>B</td>\n",
              "      <td>Cc1cc(C(=O)NCCN2CCOCC2)[nH]c1/C=C1\\C(=O)N(C)c2...</td>\n",
              "      <td>CHEMBL443268</td>\n",
              "      <td>=</td>\n",
              "      <td>CHEMBL203</td>\n",
              "      <td>Homo sapiens</td>\n",
              "      <td>IC50</td>\n",
              "      <td>nM</td>\n",
              "      <td>5310</td>\n",
              "    </tr>\n",
              "    <tr>\n",
              "      <th>7</th>\n",
              "      <td>34039</td>\n",
              "      <td>CHEMBL674643</td>\n",
              "      <td>Inhibitory concentration of EGF dependent auto...</td>\n",
              "      <td>B</td>\n",
              "      <td>COc1cc(/C=C(\\C#N)C(=O)O)cc(OC)c1O</td>\n",
              "      <td>CHEMBL76979</td>\n",
              "      <td>=</td>\n",
              "      <td>CHEMBL203</td>\n",
              "      <td>Homo sapiens</td>\n",
              "      <td>IC50</td>\n",
              "      <td>nM</td>\n",
              "      <td>264000</td>\n",
              "    </tr>\n",
              "    <tr>\n",
              "      <th>8</th>\n",
              "      <td>34041</td>\n",
              "      <td>CHEMBL674643</td>\n",
              "      <td>Inhibitory concentration of EGF dependent auto...</td>\n",
              "      <td>B</td>\n",
              "      <td>N#CC(C#N)=C(N)/C(C#N)=C/c1ccc(O)cc1</td>\n",
              "      <td>CHEMBL76589</td>\n",
              "      <td>=</td>\n",
              "      <td>CHEMBL203</td>\n",
              "      <td>Homo sapiens</td>\n",
              "      <td>IC50</td>\n",
              "      <td>nM</td>\n",
              "      <td>125</td>\n",
              "    </tr>\n",
              "    <tr>\n",
              "      <th>9</th>\n",
              "      <td>34049</td>\n",
              "      <td>CHEMBL674643</td>\n",
              "      <td>Inhibitory concentration of EGF dependent auto...</td>\n",
              "      <td>B</td>\n",
              "      <td>N#CC(C#N)=Cc1ccc(O)c(O)c1</td>\n",
              "      <td>CHEMBL76904</td>\n",
              "      <td>=</td>\n",
              "      <td>CHEMBL203</td>\n",
              "      <td>Homo sapiens</td>\n",
              "      <td>IC50</td>\n",
              "      <td>nM</td>\n",
              "      <td>35000</td>\n",
              "    </tr>\n",
              "  </tbody>\n",
              "</table>\n",
              "</div>"
            ],
            "text/plain": [
              "   activity_id assay_chembl_id  ... units   value\n",
              "0        32260    CHEMBL674637  ...    nM      41\n",
              "1        32267    CHEMBL674637  ...    nM     170\n",
              "2        32680    CHEMBL677833  ...    nM    9300\n",
              "3        32770    CHEMBL674643  ...    nM  500000\n",
              "4        32772    CHEMBL674643  ...    nM   3e+06\n",
              "5        32780    CHEMBL674643  ...    nM   96000\n",
              "6        33406    CHEMBL674637  ...    nM    5310\n",
              "7        34039    CHEMBL674643  ...    nM  264000\n",
              "8        34041    CHEMBL674643  ...    nM     125\n",
              "9        34049    CHEMBL674643  ...    nM   35000\n",
              "\n",
              "[10 rows x 12 columns]"
            ]
          },
          "metadata": {
            "tags": []
          },
          "execution_count": 15
        }
      ]
    },
    {
      "cell_type": "code",
      "metadata": {
        "id": "Y4kA9_fkhMHj",
        "colab_type": "code",
        "colab": {
          "base_uri": "https://localhost:8080/",
          "height": 35
        },
        "outputId": "09fbf0a1-5c44-4e0f-da46-57efa00d82c2"
      },
      "source": [
        "bioact_df.shape"
      ],
      "execution_count": 16,
      "outputs": [
        {
          "output_type": "execute_result",
          "data": {
            "text/plain": [
              "(5428, 12)"
            ]
          },
          "metadata": {
            "tags": []
          },
          "execution_count": 16
        }
      ]
    },
    {
      "cell_type": "code",
      "metadata": {
        "id": "WFxfMqZKmK16",
        "colab_type": "code",
        "colab": {
          "base_uri": "https://localhost:8080/",
          "height": 363
        },
        "outputId": "cc04216e-6ba2-4ab6-ba98-7649d5f9c695"
      },
      "source": [
        "selection = ['molecule_chembl_id','canonical_smiles','type','value','units']\n",
        "df1 = bioact_df[selection]\n",
        "df1.head(10)"
      ],
      "execution_count": 17,
      "outputs": [
        {
          "output_type": "execute_result",
          "data": {
            "text/html": [
              "<div>\n",
              "<style scoped>\n",
              "    .dataframe tbody tr th:only-of-type {\n",
              "        vertical-align: middle;\n",
              "    }\n",
              "\n",
              "    .dataframe tbody tr th {\n",
              "        vertical-align: top;\n",
              "    }\n",
              "\n",
              "    .dataframe thead th {\n",
              "        text-align: right;\n",
              "    }\n",
              "</style>\n",
              "<table border=\"1\" class=\"dataframe\">\n",
              "  <thead>\n",
              "    <tr style=\"text-align: right;\">\n",
              "      <th></th>\n",
              "      <th>molecule_chembl_id</th>\n",
              "      <th>canonical_smiles</th>\n",
              "      <th>type</th>\n",
              "      <th>value</th>\n",
              "      <th>units</th>\n",
              "    </tr>\n",
              "  </thead>\n",
              "  <tbody>\n",
              "    <tr>\n",
              "      <th>0</th>\n",
              "      <td>CHEMBL68920</td>\n",
              "      <td>Cc1cc(C)c(/C=C2\\C(=O)Nc3ncnc(Nc4ccc(F)c(Cl)c4)...</td>\n",
              "      <td>IC50</td>\n",
              "      <td>41</td>\n",
              "      <td>nM</td>\n",
              "    </tr>\n",
              "    <tr>\n",
              "      <th>1</th>\n",
              "      <td>CHEMBL69960</td>\n",
              "      <td>Cc1cc(C(=O)N2CCOCC2)[nH]c1/C=C1\\C(=O)Nc2ncnc(N...</td>\n",
              "      <td>IC50</td>\n",
              "      <td>170</td>\n",
              "      <td>nM</td>\n",
              "    </tr>\n",
              "    <tr>\n",
              "      <th>2</th>\n",
              "      <td>CHEMBL137635</td>\n",
              "      <td>CN(c1ccccc1)c1ncnc2ccc(N/N=N/Cc3ccccn3)cc12</td>\n",
              "      <td>IC50</td>\n",
              "      <td>9300</td>\n",
              "      <td>nM</td>\n",
              "    </tr>\n",
              "    <tr>\n",
              "      <th>3</th>\n",
              "      <td>CHEMBL306988</td>\n",
              "      <td>CC(=C(C#N)C#N)c1ccc(NC(=O)CCC(=O)O)cc1</td>\n",
              "      <td>IC50</td>\n",
              "      <td>500000</td>\n",
              "      <td>nM</td>\n",
              "    </tr>\n",
              "    <tr>\n",
              "      <th>4</th>\n",
              "      <td>CHEMBL66879</td>\n",
              "      <td>O=C(O)/C=C/c1ccc(O)cc1</td>\n",
              "      <td>IC50</td>\n",
              "      <td>3e+06</td>\n",
              "      <td>nM</td>\n",
              "    </tr>\n",
              "    <tr>\n",
              "      <th>5</th>\n",
              "      <td>CHEMBL77085</td>\n",
              "      <td>N#CC(C#N)=Cc1cc(O)ccc1[N+](=O)[O-]</td>\n",
              "      <td>IC50</td>\n",
              "      <td>96000</td>\n",
              "      <td>nM</td>\n",
              "    </tr>\n",
              "    <tr>\n",
              "      <th>6</th>\n",
              "      <td>CHEMBL443268</td>\n",
              "      <td>Cc1cc(C(=O)NCCN2CCOCC2)[nH]c1/C=C1\\C(=O)N(C)c2...</td>\n",
              "      <td>IC50</td>\n",
              "      <td>5310</td>\n",
              "      <td>nM</td>\n",
              "    </tr>\n",
              "    <tr>\n",
              "      <th>7</th>\n",
              "      <td>CHEMBL76979</td>\n",
              "      <td>COc1cc(/C=C(\\C#N)C(=O)O)cc(OC)c1O</td>\n",
              "      <td>IC50</td>\n",
              "      <td>264000</td>\n",
              "      <td>nM</td>\n",
              "    </tr>\n",
              "    <tr>\n",
              "      <th>8</th>\n",
              "      <td>CHEMBL76589</td>\n",
              "      <td>N#CC(C#N)=C(N)/C(C#N)=C/c1ccc(O)cc1</td>\n",
              "      <td>IC50</td>\n",
              "      <td>125</td>\n",
              "      <td>nM</td>\n",
              "    </tr>\n",
              "    <tr>\n",
              "      <th>9</th>\n",
              "      <td>CHEMBL76904</td>\n",
              "      <td>N#CC(C#N)=Cc1ccc(O)c(O)c1</td>\n",
              "      <td>IC50</td>\n",
              "      <td>35000</td>\n",
              "      <td>nM</td>\n",
              "    </tr>\n",
              "  </tbody>\n",
              "</table>\n",
              "</div>"
            ],
            "text/plain": [
              "  molecule_chembl_id  ... units\n",
              "0        CHEMBL68920  ...    nM\n",
              "1        CHEMBL69960  ...    nM\n",
              "2       CHEMBL137635  ...    nM\n",
              "3       CHEMBL306988  ...    nM\n",
              "4        CHEMBL66879  ...    nM\n",
              "5        CHEMBL77085  ...    nM\n",
              "6       CHEMBL443268  ...    nM\n",
              "7        CHEMBL76979  ...    nM\n",
              "8        CHEMBL76589  ...    nM\n",
              "9        CHEMBL76904  ...    nM\n",
              "\n",
              "[10 rows x 5 columns]"
            ]
          },
          "metadata": {
            "tags": []
          },
          "execution_count": 17
        }
      ]
    },
    {
      "cell_type": "markdown",
      "metadata": {
        "id": "KJPA7XcNoL-A",
        "colab_type": "text"
      },
      "source": [
        "Convert the IC50 values to pIC50"
      ]
    },
    {
      "cell_type": "code",
      "metadata": {
        "id": "3nmgf8pIqflV",
        "colab_type": "code",
        "colab": {
          "base_uri": "https://localhost:8080/",
          "height": 363
        },
        "outputId": "b2840aa2-319d-40e2-8861-5723f4c047ac"
      },
      "source": [
        "df2 = df1.rename(columns= {'value':'value_IC50'})\n",
        "df2.head(10)"
      ],
      "execution_count": 18,
      "outputs": [
        {
          "output_type": "execute_result",
          "data": {
            "text/html": [
              "<div>\n",
              "<style scoped>\n",
              "    .dataframe tbody tr th:only-of-type {\n",
              "        vertical-align: middle;\n",
              "    }\n",
              "\n",
              "    .dataframe tbody tr th {\n",
              "        vertical-align: top;\n",
              "    }\n",
              "\n",
              "    .dataframe thead th {\n",
              "        text-align: right;\n",
              "    }\n",
              "</style>\n",
              "<table border=\"1\" class=\"dataframe\">\n",
              "  <thead>\n",
              "    <tr style=\"text-align: right;\">\n",
              "      <th></th>\n",
              "      <th>molecule_chembl_id</th>\n",
              "      <th>canonical_smiles</th>\n",
              "      <th>type</th>\n",
              "      <th>value_IC50</th>\n",
              "      <th>units</th>\n",
              "    </tr>\n",
              "  </thead>\n",
              "  <tbody>\n",
              "    <tr>\n",
              "      <th>0</th>\n",
              "      <td>CHEMBL68920</td>\n",
              "      <td>Cc1cc(C)c(/C=C2\\C(=O)Nc3ncnc(Nc4ccc(F)c(Cl)c4)...</td>\n",
              "      <td>IC50</td>\n",
              "      <td>41</td>\n",
              "      <td>nM</td>\n",
              "    </tr>\n",
              "    <tr>\n",
              "      <th>1</th>\n",
              "      <td>CHEMBL69960</td>\n",
              "      <td>Cc1cc(C(=O)N2CCOCC2)[nH]c1/C=C1\\C(=O)Nc2ncnc(N...</td>\n",
              "      <td>IC50</td>\n",
              "      <td>170</td>\n",
              "      <td>nM</td>\n",
              "    </tr>\n",
              "    <tr>\n",
              "      <th>2</th>\n",
              "      <td>CHEMBL137635</td>\n",
              "      <td>CN(c1ccccc1)c1ncnc2ccc(N/N=N/Cc3ccccn3)cc12</td>\n",
              "      <td>IC50</td>\n",
              "      <td>9300</td>\n",
              "      <td>nM</td>\n",
              "    </tr>\n",
              "    <tr>\n",
              "      <th>3</th>\n",
              "      <td>CHEMBL306988</td>\n",
              "      <td>CC(=C(C#N)C#N)c1ccc(NC(=O)CCC(=O)O)cc1</td>\n",
              "      <td>IC50</td>\n",
              "      <td>500000</td>\n",
              "      <td>nM</td>\n",
              "    </tr>\n",
              "    <tr>\n",
              "      <th>4</th>\n",
              "      <td>CHEMBL66879</td>\n",
              "      <td>O=C(O)/C=C/c1ccc(O)cc1</td>\n",
              "      <td>IC50</td>\n",
              "      <td>3e+06</td>\n",
              "      <td>nM</td>\n",
              "    </tr>\n",
              "    <tr>\n",
              "      <th>5</th>\n",
              "      <td>CHEMBL77085</td>\n",
              "      <td>N#CC(C#N)=Cc1cc(O)ccc1[N+](=O)[O-]</td>\n",
              "      <td>IC50</td>\n",
              "      <td>96000</td>\n",
              "      <td>nM</td>\n",
              "    </tr>\n",
              "    <tr>\n",
              "      <th>6</th>\n",
              "      <td>CHEMBL443268</td>\n",
              "      <td>Cc1cc(C(=O)NCCN2CCOCC2)[nH]c1/C=C1\\C(=O)N(C)c2...</td>\n",
              "      <td>IC50</td>\n",
              "      <td>5310</td>\n",
              "      <td>nM</td>\n",
              "    </tr>\n",
              "    <tr>\n",
              "      <th>7</th>\n",
              "      <td>CHEMBL76979</td>\n",
              "      <td>COc1cc(/C=C(\\C#N)C(=O)O)cc(OC)c1O</td>\n",
              "      <td>IC50</td>\n",
              "      <td>264000</td>\n",
              "      <td>nM</td>\n",
              "    </tr>\n",
              "    <tr>\n",
              "      <th>8</th>\n",
              "      <td>CHEMBL76589</td>\n",
              "      <td>N#CC(C#N)=C(N)/C(C#N)=C/c1ccc(O)cc1</td>\n",
              "      <td>IC50</td>\n",
              "      <td>125</td>\n",
              "      <td>nM</td>\n",
              "    </tr>\n",
              "    <tr>\n",
              "      <th>9</th>\n",
              "      <td>CHEMBL76904</td>\n",
              "      <td>N#CC(C#N)=Cc1ccc(O)c(O)c1</td>\n",
              "      <td>IC50</td>\n",
              "      <td>35000</td>\n",
              "      <td>nM</td>\n",
              "    </tr>\n",
              "  </tbody>\n",
              "</table>\n",
              "</div>"
            ],
            "text/plain": [
              "  molecule_chembl_id  ... units\n",
              "0        CHEMBL68920  ...    nM\n",
              "1        CHEMBL69960  ...    nM\n",
              "2       CHEMBL137635  ...    nM\n",
              "3       CHEMBL306988  ...    nM\n",
              "4        CHEMBL66879  ...    nM\n",
              "5        CHEMBL77085  ...    nM\n",
              "6       CHEMBL443268  ...    nM\n",
              "7        CHEMBL76979  ...    nM\n",
              "8        CHEMBL76589  ...    nM\n",
              "9        CHEMBL76904  ...    nM\n",
              "\n",
              "[10 rows x 5 columns]"
            ]
          },
          "metadata": {
            "tags": []
          },
          "execution_count": 18
        }
      ]
    },
    {
      "cell_type": "code",
      "metadata": {
        "id": "2Yu3uV8pv_yB",
        "colab_type": "code",
        "colab": {
          "base_uri": "https://localhost:8080/",
          "height": 225
        },
        "outputId": "8bde93e4-e0f8-4815-878c-4db5e6ee3aa9"
      },
      "source": [
        "df2 = df2[~df2['canonical_smiles'].isnull()]\n",
        "print(df2.shape)\n",
        "df2.head()"
      ],
      "execution_count": 19,
      "outputs": [
        {
          "output_type": "stream",
          "text": [
            "(5428, 5)\n"
          ],
          "name": "stdout"
        },
        {
          "output_type": "execute_result",
          "data": {
            "text/html": [
              "<div>\n",
              "<style scoped>\n",
              "    .dataframe tbody tr th:only-of-type {\n",
              "        vertical-align: middle;\n",
              "    }\n",
              "\n",
              "    .dataframe tbody tr th {\n",
              "        vertical-align: top;\n",
              "    }\n",
              "\n",
              "    .dataframe thead th {\n",
              "        text-align: right;\n",
              "    }\n",
              "</style>\n",
              "<table border=\"1\" class=\"dataframe\">\n",
              "  <thead>\n",
              "    <tr style=\"text-align: right;\">\n",
              "      <th></th>\n",
              "      <th>molecule_chembl_id</th>\n",
              "      <th>canonical_smiles</th>\n",
              "      <th>type</th>\n",
              "      <th>value_IC50</th>\n",
              "      <th>units</th>\n",
              "    </tr>\n",
              "  </thead>\n",
              "  <tbody>\n",
              "    <tr>\n",
              "      <th>0</th>\n",
              "      <td>CHEMBL68920</td>\n",
              "      <td>Cc1cc(C)c(/C=C2\\C(=O)Nc3ncnc(Nc4ccc(F)c(Cl)c4)...</td>\n",
              "      <td>IC50</td>\n",
              "      <td>41</td>\n",
              "      <td>nM</td>\n",
              "    </tr>\n",
              "    <tr>\n",
              "      <th>1</th>\n",
              "      <td>CHEMBL69960</td>\n",
              "      <td>Cc1cc(C(=O)N2CCOCC2)[nH]c1/C=C1\\C(=O)Nc2ncnc(N...</td>\n",
              "      <td>IC50</td>\n",
              "      <td>170</td>\n",
              "      <td>nM</td>\n",
              "    </tr>\n",
              "    <tr>\n",
              "      <th>2</th>\n",
              "      <td>CHEMBL137635</td>\n",
              "      <td>CN(c1ccccc1)c1ncnc2ccc(N/N=N/Cc3ccccn3)cc12</td>\n",
              "      <td>IC50</td>\n",
              "      <td>9300</td>\n",
              "      <td>nM</td>\n",
              "    </tr>\n",
              "    <tr>\n",
              "      <th>3</th>\n",
              "      <td>CHEMBL306988</td>\n",
              "      <td>CC(=C(C#N)C#N)c1ccc(NC(=O)CCC(=O)O)cc1</td>\n",
              "      <td>IC50</td>\n",
              "      <td>500000</td>\n",
              "      <td>nM</td>\n",
              "    </tr>\n",
              "    <tr>\n",
              "      <th>4</th>\n",
              "      <td>CHEMBL66879</td>\n",
              "      <td>O=C(O)/C=C/c1ccc(O)cc1</td>\n",
              "      <td>IC50</td>\n",
              "      <td>3e+06</td>\n",
              "      <td>nM</td>\n",
              "    </tr>\n",
              "  </tbody>\n",
              "</table>\n",
              "</div>"
            ],
            "text/plain": [
              "  molecule_chembl_id  ... units\n",
              "0        CHEMBL68920  ...    nM\n",
              "1        CHEMBL69960  ...    nM\n",
              "2       CHEMBL137635  ...    nM\n",
              "3       CHEMBL306988  ...    nM\n",
              "4        CHEMBL66879  ...    nM\n",
              "\n",
              "[5 rows x 5 columns]"
            ]
          },
          "metadata": {
            "tags": []
          },
          "execution_count": 19
        }
      ]
    },
    {
      "cell_type": "markdown",
      "metadata": {
        "id": "hopD1YoZbEAn",
        "colab_type": "text"
      },
      "source": [
        "To allow IC50 data to be more uniformly distributed, we will convert IC50 to the negative logarithmic scale which is essentially -log10(IC50).\n",
        "\n",
        "This custom function pIC50() will accept a DataFrame as input and will:\n",
        "\n",
        "- Take the IC50 values from the value_IC50 column and converts it from nM to M by multiplying the value by 10$^{-9}$\n",
        "- Take the molar value and apply -log10\n",
        "- Delete the value_IC50 column and create a new value_pIC50 column\n"
      ]
    },
    {
      "cell_type": "code",
      "metadata": {
        "id": "_P3B92msot-t",
        "colab_type": "code",
        "colab": {}
      },
      "source": [
        "df3 = df2.reset_index(drop=True)"
      ],
      "execution_count": 25,
      "outputs": []
    },
    {
      "cell_type": "code",
      "metadata": {
        "id": "Ng0Qecrpo85D",
        "colab_type": "code",
        "colab": {}
      },
      "source": [
        "# dfx = df2.head(5)\n",
        "ic50 = df3['value_IC50'].astype(float)"
      ],
      "execution_count": 26,
      "outputs": []
    },
    {
      "cell_type": "code",
      "metadata": {
        "id": "hJOnXYYOwUUW",
        "colab_type": "code",
        "colab": {
          "base_uri": "https://localhost:8080/",
          "height": 237
        },
        "outputId": "f211ba5e-692f-4db1-de92-9d06705114e7"
      },
      "source": [
        "print(len(ic50))\n",
        "print(ic50.head(10))"
      ],
      "execution_count": 27,
      "outputs": [
        {
          "output_type": "stream",
          "text": [
            "5428\n",
            "0         41.0\n",
            "1        170.0\n",
            "2       9300.0\n",
            "3     500000.0\n",
            "4    3000000.0\n",
            "5      96000.0\n",
            "6       5310.0\n",
            "7     264000.0\n",
            "8        125.0\n",
            "9      35000.0\n",
            "Name: value_IC50, dtype: float64\n"
          ],
          "name": "stdout"
        }
      ]
    },
    {
      "cell_type": "code",
      "metadata": {
        "id": "HDgg2s1ZwWAN",
        "colab_type": "code",
        "colab": {
          "base_uri": "https://localhost:8080/",
          "height": 263
        },
        "outputId": "d36a8fdd-2102-4804-e49d-c06241afd4da"
      },
      "source": [
        "pIC50 = pd.Series() \n",
        "i = 0\n",
        "while i < len(df3.value_IC50):\n",
        "    value = 9 - math.log10(ic50[i]) # pIC50=-log10(IC50 mol/l) --> for nM: -log10(IC50*10**-9)= 9-log10(IC50)\n",
        "    if value < 0:\n",
        "        print(\"Negative pIC50 value at index\"+str(i))\n",
        "    pIC50.at[i] = value\n",
        "    i += 1\n",
        "    \n",
        "df3['value_pIC50'] = pIC50\n",
        "df3.head()"
      ],
      "execution_count": 28,
      "outputs": [
        {
          "output_type": "stream",
          "text": [
            "/usr/local/lib/python3.6/dist-packages/ipykernel_launcher.py:1: DeprecationWarning: The default dtype for empty Series will be 'object' instead of 'float64' in a future version. Specify a dtype explicitly to silence this warning.\n",
            "  \"\"\"Entry point for launching an IPython kernel.\n"
          ],
          "name": "stderr"
        },
        {
          "output_type": "execute_result",
          "data": {
            "text/html": [
              "<div>\n",
              "<style scoped>\n",
              "    .dataframe tbody tr th:only-of-type {\n",
              "        vertical-align: middle;\n",
              "    }\n",
              "\n",
              "    .dataframe tbody tr th {\n",
              "        vertical-align: top;\n",
              "    }\n",
              "\n",
              "    .dataframe thead th {\n",
              "        text-align: right;\n",
              "    }\n",
              "</style>\n",
              "<table border=\"1\" class=\"dataframe\">\n",
              "  <thead>\n",
              "    <tr style=\"text-align: right;\">\n",
              "      <th></th>\n",
              "      <th>molecule_chembl_id</th>\n",
              "      <th>canonical_smiles</th>\n",
              "      <th>type</th>\n",
              "      <th>value_IC50</th>\n",
              "      <th>units</th>\n",
              "      <th>value_pIC50</th>\n",
              "    </tr>\n",
              "  </thead>\n",
              "  <tbody>\n",
              "    <tr>\n",
              "      <th>0</th>\n",
              "      <td>CHEMBL68920</td>\n",
              "      <td>Cc1cc(C)c(/C=C2\\C(=O)Nc3ncnc(Nc4ccc(F)c(Cl)c4)...</td>\n",
              "      <td>IC50</td>\n",
              "      <td>41</td>\n",
              "      <td>nM</td>\n",
              "      <td>7.387216</td>\n",
              "    </tr>\n",
              "    <tr>\n",
              "      <th>1</th>\n",
              "      <td>CHEMBL69960</td>\n",
              "      <td>Cc1cc(C(=O)N2CCOCC2)[nH]c1/C=C1\\C(=O)Nc2ncnc(N...</td>\n",
              "      <td>IC50</td>\n",
              "      <td>170</td>\n",
              "      <td>nM</td>\n",
              "      <td>6.769551</td>\n",
              "    </tr>\n",
              "    <tr>\n",
              "      <th>2</th>\n",
              "      <td>CHEMBL137635</td>\n",
              "      <td>CN(c1ccccc1)c1ncnc2ccc(N/N=N/Cc3ccccn3)cc12</td>\n",
              "      <td>IC50</td>\n",
              "      <td>9300</td>\n",
              "      <td>nM</td>\n",
              "      <td>5.031517</td>\n",
              "    </tr>\n",
              "    <tr>\n",
              "      <th>3</th>\n",
              "      <td>CHEMBL306988</td>\n",
              "      <td>CC(=C(C#N)C#N)c1ccc(NC(=O)CCC(=O)O)cc1</td>\n",
              "      <td>IC50</td>\n",
              "      <td>500000</td>\n",
              "      <td>nM</td>\n",
              "      <td>3.301030</td>\n",
              "    </tr>\n",
              "    <tr>\n",
              "      <th>4</th>\n",
              "      <td>CHEMBL66879</td>\n",
              "      <td>O=C(O)/C=C/c1ccc(O)cc1</td>\n",
              "      <td>IC50</td>\n",
              "      <td>3e+06</td>\n",
              "      <td>nM</td>\n",
              "      <td>2.522879</td>\n",
              "    </tr>\n",
              "  </tbody>\n",
              "</table>\n",
              "</div>"
            ],
            "text/plain": [
              "  molecule_chembl_id  ... value_pIC50\n",
              "0        CHEMBL68920  ...    7.387216\n",
              "1        CHEMBL69960  ...    6.769551\n",
              "2       CHEMBL137635  ...    5.031517\n",
              "3       CHEMBL306988  ...    3.301030\n",
              "4        CHEMBL66879  ...    2.522879\n",
              "\n",
              "[5 rows x 6 columns]"
            ]
          },
          "metadata": {
            "tags": []
          },
          "execution_count": 28
        }
      ]
    },
    {
      "cell_type": "code",
      "metadata": {
        "id": "HVojxIRdygYq",
        "colab_type": "code",
        "colab": {
          "base_uri": "https://localhost:8080/",
          "height": 363
        },
        "outputId": "ab94345c-1f27-4278-95ee-4dff096aeaff"
      },
      "source": [
        "selection = ['molecule_chembl_id','canonical_smiles','value_IC50','value_pIC50','units']\n",
        "df = df3[selection]\n",
        "df.head(10)"
      ],
      "execution_count": 29,
      "outputs": [
        {
          "output_type": "execute_result",
          "data": {
            "text/html": [
              "<div>\n",
              "<style scoped>\n",
              "    .dataframe tbody tr th:only-of-type {\n",
              "        vertical-align: middle;\n",
              "    }\n",
              "\n",
              "    .dataframe tbody tr th {\n",
              "        vertical-align: top;\n",
              "    }\n",
              "\n",
              "    .dataframe thead th {\n",
              "        text-align: right;\n",
              "    }\n",
              "</style>\n",
              "<table border=\"1\" class=\"dataframe\">\n",
              "  <thead>\n",
              "    <tr style=\"text-align: right;\">\n",
              "      <th></th>\n",
              "      <th>molecule_chembl_id</th>\n",
              "      <th>canonical_smiles</th>\n",
              "      <th>value_IC50</th>\n",
              "      <th>value_pIC50</th>\n",
              "      <th>units</th>\n",
              "    </tr>\n",
              "  </thead>\n",
              "  <tbody>\n",
              "    <tr>\n",
              "      <th>0</th>\n",
              "      <td>CHEMBL68920</td>\n",
              "      <td>Cc1cc(C)c(/C=C2\\C(=O)Nc3ncnc(Nc4ccc(F)c(Cl)c4)...</td>\n",
              "      <td>41</td>\n",
              "      <td>7.387216</td>\n",
              "      <td>nM</td>\n",
              "    </tr>\n",
              "    <tr>\n",
              "      <th>1</th>\n",
              "      <td>CHEMBL69960</td>\n",
              "      <td>Cc1cc(C(=O)N2CCOCC2)[nH]c1/C=C1\\C(=O)Nc2ncnc(N...</td>\n",
              "      <td>170</td>\n",
              "      <td>6.769551</td>\n",
              "      <td>nM</td>\n",
              "    </tr>\n",
              "    <tr>\n",
              "      <th>2</th>\n",
              "      <td>CHEMBL137635</td>\n",
              "      <td>CN(c1ccccc1)c1ncnc2ccc(N/N=N/Cc3ccccn3)cc12</td>\n",
              "      <td>9300</td>\n",
              "      <td>5.031517</td>\n",
              "      <td>nM</td>\n",
              "    </tr>\n",
              "    <tr>\n",
              "      <th>3</th>\n",
              "      <td>CHEMBL306988</td>\n",
              "      <td>CC(=C(C#N)C#N)c1ccc(NC(=O)CCC(=O)O)cc1</td>\n",
              "      <td>500000</td>\n",
              "      <td>3.301030</td>\n",
              "      <td>nM</td>\n",
              "    </tr>\n",
              "    <tr>\n",
              "      <th>4</th>\n",
              "      <td>CHEMBL66879</td>\n",
              "      <td>O=C(O)/C=C/c1ccc(O)cc1</td>\n",
              "      <td>3e+06</td>\n",
              "      <td>2.522879</td>\n",
              "      <td>nM</td>\n",
              "    </tr>\n",
              "    <tr>\n",
              "      <th>5</th>\n",
              "      <td>CHEMBL77085</td>\n",
              "      <td>N#CC(C#N)=Cc1cc(O)ccc1[N+](=O)[O-]</td>\n",
              "      <td>96000</td>\n",
              "      <td>4.017729</td>\n",
              "      <td>nM</td>\n",
              "    </tr>\n",
              "    <tr>\n",
              "      <th>6</th>\n",
              "      <td>CHEMBL443268</td>\n",
              "      <td>Cc1cc(C(=O)NCCN2CCOCC2)[nH]c1/C=C1\\C(=O)N(C)c2...</td>\n",
              "      <td>5310</td>\n",
              "      <td>5.274905</td>\n",
              "      <td>nM</td>\n",
              "    </tr>\n",
              "    <tr>\n",
              "      <th>7</th>\n",
              "      <td>CHEMBL76979</td>\n",
              "      <td>COc1cc(/C=C(\\C#N)C(=O)O)cc(OC)c1O</td>\n",
              "      <td>264000</td>\n",
              "      <td>3.578396</td>\n",
              "      <td>nM</td>\n",
              "    </tr>\n",
              "    <tr>\n",
              "      <th>8</th>\n",
              "      <td>CHEMBL76589</td>\n",
              "      <td>N#CC(C#N)=C(N)/C(C#N)=C/c1ccc(O)cc1</td>\n",
              "      <td>125</td>\n",
              "      <td>6.903090</td>\n",
              "      <td>nM</td>\n",
              "    </tr>\n",
              "    <tr>\n",
              "      <th>9</th>\n",
              "      <td>CHEMBL76904</td>\n",
              "      <td>N#CC(C#N)=Cc1ccc(O)c(O)c1</td>\n",
              "      <td>35000</td>\n",
              "      <td>4.455932</td>\n",
              "      <td>nM</td>\n",
              "    </tr>\n",
              "  </tbody>\n",
              "</table>\n",
              "</div>"
            ],
            "text/plain": [
              "  molecule_chembl_id  ... units\n",
              "0        CHEMBL68920  ...    nM\n",
              "1        CHEMBL69960  ...    nM\n",
              "2       CHEMBL137635  ...    nM\n",
              "3       CHEMBL306988  ...    nM\n",
              "4        CHEMBL66879  ...    nM\n",
              "5        CHEMBL77085  ...    nM\n",
              "6       CHEMBL443268  ...    nM\n",
              "7        CHEMBL76979  ...    nM\n",
              "8        CHEMBL76589  ...    nM\n",
              "9        CHEMBL76904  ...    nM\n",
              "\n",
              "[10 rows x 5 columns]"
            ]
          },
          "metadata": {
            "tags": []
          },
          "execution_count": 29
        }
      ]
    },
    {
      "cell_type": "code",
      "metadata": {
        "id": "l9LRffp1zIjM",
        "colab_type": "code",
        "colab": {}
      },
      "source": [
        "df.to_csv('filtered-data.csv', index = False)"
      ],
      "execution_count": 32,
      "outputs": []
    },
    {
      "cell_type": "code",
      "metadata": {
        "id": "K7pOXBd1zMWe",
        "colab_type": "code",
        "colab": {}
      },
      "source": [
        "! cp filtered-data.csv \"/content/gdrive/My Drive/Colab Notebooks/Data\""
      ],
      "execution_count": 33,
      "outputs": []
    }
  ]
}